{
 "cells": [
  {
   "cell_type": "code",
   "execution_count": 24,
   "id": "9a59460f",
   "metadata": {},
   "outputs": [],
   "source": [
    "import pandas as pd\n",
    "import numpy as np\n",
    "\n",
    "# 날짜\n",
    "import datetime as dt\n",
    "\n",
    "#시각화\n",
    "import matplotlib.pyplot as plt\n",
    "import seaborn as sns\n",
    "import matplotlib as mpl\n",
    "\n",
    "#한글 폰트 설정\n",
    "plt.rc('font', family='NanumBarunGothic')\n",
    "\n",
    "# 딥러닝\n",
    "import tensorflow as tf\n",
    "import keras\n",
    "from keras.layers import Dense\n",
    "from keras.models import Sequential\n",
    "# from keras.utils import to_categorical\n",
    "from tensorflow.keras.utils import to_categorical\n",
    "from tensorflow.keras.optimizers import SGD,Adadelta,Adam,RMSprop\n",
    "from keras.callbacks import EarlyStopping\n",
    "from keras.utils import np_utils\n",
    "import itertools\n",
    "from keras.layers import LSTM\n",
    "from keras.layers.convolutional import Conv1D\n",
    "from keras.layers.convolutional import MaxPooling1D\n",
    "from keras.layers import Dropout\n",
    "\n",
    "pd.options.display.float_format = '{:.5f}'.format"
   ]
  },
  {
   "cell_type": "code",
   "execution_count": 2,
   "id": "13df6d53",
   "metadata": {},
   "outputs": [],
   "source": [
    "# 데이터 로드\n",
    "df = pd.read_csv(\"./data/bus_0308_9am.csv\")"
   ]
  },
  {
   "cell_type": "code",
   "execution_count": 3,
   "id": "89c118b7",
   "metadata": {},
   "outputs": [
    {
     "data": {
      "text/html": [
       "<div>\n",
       "<style scoped>\n",
       "    .dataframe tbody tr th:only-of-type {\n",
       "        vertical-align: middle;\n",
       "    }\n",
       "\n",
       "    .dataframe tbody tr th {\n",
       "        vertical-align: top;\n",
       "    }\n",
       "\n",
       "    .dataframe thead th {\n",
       "        text-align: right;\n",
       "    }\n",
       "</style>\n",
       "<table border=\"1\" class=\"dataframe\">\n",
       "  <thead>\n",
       "    <tr style=\"text-align: right;\">\n",
       "      <th></th>\n",
       "      <th>bstopId</th>\n",
       "      <th>routeNo</th>\n",
       "      <th>routeId</th>\n",
       "      <th>bstopNm</th>\n",
       "      <th>busId</th>\n",
       "      <th>LATEST_STOP_NAME</th>\n",
       "      <th>Bus_Num_Plate</th>\n",
       "      <th>Rest_Stop_Count</th>\n",
       "      <th>ARRIVALESTIMATETIME</th>\n",
       "      <th>ThisDT</th>\n",
       "    </tr>\n",
       "  </thead>\n",
       "  <tbody>\n",
       "    <tr>\n",
       "      <th>0</th>\n",
       "      <td>113000424</td>\n",
       "      <td>M6724</td>\n",
       "      <td>165000381</td>\n",
       "      <td>합정역</td>\n",
       "      <td>7331704</td>\n",
       "      <td>동춘역(이마트.스퀘어원)</td>\n",
       "      <td>인천73아1704</td>\n",
       "      <td>5</td>\n",
       "      <td>2757</td>\n",
       "      <td>2022-02-16 15:05:22</td>\n",
       "    </tr>\n",
       "    <tr>\n",
       "      <th>1</th>\n",
       "      <td>164000346</td>\n",
       "      <td>M6724</td>\n",
       "      <td>165000381</td>\n",
       "      <td>동춘역</td>\n",
       "      <td>7331707</td>\n",
       "      <td>부천IC출입(미정차)</td>\n",
       "      <td>인천73아1707</td>\n",
       "      <td>1</td>\n",
       "      <td>1649</td>\n",
       "      <td>2022-02-16 15:05:24</td>\n",
       "    </tr>\n",
       "    <tr>\n",
       "      <th>2</th>\n",
       "      <td>113000424</td>\n",
       "      <td>M6724</td>\n",
       "      <td>165000381</td>\n",
       "      <td>합정역</td>\n",
       "      <td>7331704</td>\n",
       "      <td>동춘역(이마트.스퀘어원)</td>\n",
       "      <td>인천73아1704</td>\n",
       "      <td>5</td>\n",
       "      <td>2633</td>\n",
       "      <td>2022-02-16 15:06:01</td>\n",
       "    </tr>\n",
       "    <tr>\n",
       "      <th>3</th>\n",
       "      <td>164000346</td>\n",
       "      <td>M6724</td>\n",
       "      <td>165000381</td>\n",
       "      <td>동춘역</td>\n",
       "      <td>7331707</td>\n",
       "      <td>부천IC출입(미정차)</td>\n",
       "      <td>인천73아1707</td>\n",
       "      <td>1</td>\n",
       "      <td>1616</td>\n",
       "      <td>2022-02-16 15:06:03</td>\n",
       "    </tr>\n",
       "    <tr>\n",
       "      <th>4</th>\n",
       "      <td>113000424</td>\n",
       "      <td>M6724</td>\n",
       "      <td>165000381</td>\n",
       "      <td>합정역</td>\n",
       "      <td>7331704</td>\n",
       "      <td>동춘역(이마트.스퀘어원)</td>\n",
       "      <td>인천73아1704</td>\n",
       "      <td>5</td>\n",
       "      <td>2648</td>\n",
       "      <td>2022-02-16 15:06:29</td>\n",
       "    </tr>\n",
       "  </tbody>\n",
       "</table>\n",
       "</div>"
      ],
      "text/plain": [
       "     bstopId routeNo    routeId bstopNm    busId LATEST_STOP_NAME  \\\n",
       "0  113000424   M6724  165000381     합정역  7331704    동춘역(이마트.스퀘어원)   \n",
       "1  164000346   M6724  165000381     동춘역  7331707      부천IC출입(미정차)   \n",
       "2  113000424   M6724  165000381     합정역  7331704    동춘역(이마트.스퀘어원)   \n",
       "3  164000346   M6724  165000381     동춘역  7331707      부천IC출입(미정차)   \n",
       "4  113000424   M6724  165000381     합정역  7331704    동춘역(이마트.스퀘어원)   \n",
       "\n",
       "  Bus_Num_Plate  Rest_Stop_Count  ARRIVALESTIMATETIME               ThisDT  \n",
       "0     인천73아1704                5                 2757  2022-02-16 15:05:22  \n",
       "1     인천73아1707                1                 1649  2022-02-16 15:05:24  \n",
       "2     인천73아1704                5                 2633  2022-02-16 15:06:01  \n",
       "3     인천73아1707                1                 1616  2022-02-16 15:06:03  \n",
       "4     인천73아1704                5                 2648  2022-02-16 15:06:29  "
      ]
     },
     "execution_count": 3,
     "metadata": {},
     "output_type": "execute_result"
    }
   ],
   "source": [
    "# 데이터 프레임 상단 5개 조회\n",
    "df.head(5)"
   ]
  },
  {
   "cell_type": "code",
   "execution_count": 4,
   "id": "5d71769f",
   "metadata": {},
   "outputs": [
    {
     "data": {
      "text/plain": [
       "65444"
      ]
     },
     "execution_count": 4,
     "metadata": {},
     "output_type": "execute_result"
    }
   ],
   "source": [
    "# 인덱스 유니크값 수 = 전체 데이터 수\n",
    "df.index.nunique()"
   ]
  },
  {
   "cell_type": "code",
   "execution_count": 5,
   "id": "73f81f64",
   "metadata": {},
   "outputs": [],
   "source": [
    "# 데이터 ThisDT 변수 datatime 타입으로 변환\n",
    "df['ThisDT'] =  pd.to_datetime(df['ThisDT'])"
   ]
  },
  {
   "cell_type": "code",
   "execution_count": 6,
   "id": "48225ce3",
   "metadata": {},
   "outputs": [
    {
     "data": {
      "text/plain": [
       "0       2022-02-16 15:05:22\n",
       "1       2022-02-16 15:05:24\n",
       "2       2022-02-16 15:06:01\n",
       "3       2022-02-16 15:06:03\n",
       "4       2022-02-16 15:06:29\n",
       "                ...        \n",
       "65439   2022-03-08 09:31:06\n",
       "65440   2022-03-08 09:31:32\n",
       "65441   2022-03-08 09:31:34\n",
       "65442   2022-03-08 09:32:00\n",
       "65443   2022-03-08 09:32:03\n",
       "Name: ThisDT, Length: 65444, dtype: datetime64[ns]"
      ]
     },
     "execution_count": 6,
     "metadata": {},
     "output_type": "execute_result"
    }
   ],
   "source": [
    "df['ThisDT']"
   ]
  },
  {
   "cell_type": "code",
   "execution_count": 7,
   "id": "d65a674a",
   "metadata": {},
   "outputs": [],
   "source": [
    "# 날짜 변수 생성\n",
    "df['year'] = df['ThisDT'].dt.year\n",
    "df['month'] = df['ThisDT'].dt.month\n",
    "df['day'] = df['ThisDT'].dt.day\n",
    "df['hour'] = df['ThisDT'].dt.hour\n",
    "df['minute'] = df['ThisDT'].dt.minute\n",
    "df['second'] = df['ThisDT'].dt.second\n",
    "# 요일 생성\n",
    "# df['weekno'] = df['ThisDT'].dt.weekday\n",
    "# 평일 주말 구분\n",
    "# df['weekday'] = 0\n",
    "# 평일은 0\n",
    "# cond = (df['weekno'] < 5)\n",
    "# df.loc[cond, 'weekday'] = 0\n",
    "# 주말은 1\n",
    "# cond = (df['weekno'] >= 5)\n",
    "# df.loc[cond, 'weekday'] = 0\n",
    "\n",
    "# df.drop(columns = ['weekno'], inplace=True)"
   ]
  },
  {
   "cell_type": "code",
   "execution_count": 8,
   "id": "c58569ff",
   "metadata": {},
   "outputs": [],
   "source": [
    "# 고유값이 1인 변수 제거 > 분석에 무의미\n",
    "# bstopNm 제거 > bstopId 와 의미 중복\n",
    "df.drop(columns=['routeNo', 'routeId', 'bstopNm', 'year'], inplace=True)"
   ]
  },
  {
   "cell_type": "code",
   "execution_count": 9,
   "id": "55076f84",
   "metadata": {
    "scrolled": true
   },
   "outputs": [
    {
     "data": {
      "text/html": [
       "<div>\n",
       "<style scoped>\n",
       "    .dataframe tbody tr th:only-of-type {\n",
       "        vertical-align: middle;\n",
       "    }\n",
       "\n",
       "    .dataframe tbody tr th {\n",
       "        vertical-align: top;\n",
       "    }\n",
       "\n",
       "    .dataframe thead th {\n",
       "        text-align: right;\n",
       "    }\n",
       "</style>\n",
       "<table border=\"1\" class=\"dataframe\">\n",
       "  <thead>\n",
       "    <tr style=\"text-align: right;\">\n",
       "      <th></th>\n",
       "      <th>bstopId</th>\n",
       "      <th>busId</th>\n",
       "      <th>LATEST_STOP_NAME</th>\n",
       "      <th>Bus_Num_Plate</th>\n",
       "      <th>Rest_Stop_Count</th>\n",
       "      <th>ARRIVALESTIMATETIME</th>\n",
       "      <th>ThisDT</th>\n",
       "      <th>month</th>\n",
       "      <th>day</th>\n",
       "      <th>hour</th>\n",
       "      <th>minute</th>\n",
       "      <th>second</th>\n",
       "    </tr>\n",
       "  </thead>\n",
       "  <tbody>\n",
       "    <tr>\n",
       "      <th>65439</th>\n",
       "      <td>164000346</td>\n",
       "      <td>7331703</td>\n",
       "      <td>부천IC출입(미정차)</td>\n",
       "      <td>인천73아1703</td>\n",
       "      <td>1</td>\n",
       "      <td>731</td>\n",
       "      <td>2022-03-08 09:31:06</td>\n",
       "      <td>3</td>\n",
       "      <td>8</td>\n",
       "      <td>9</td>\n",
       "      <td>31</td>\n",
       "      <td>6</td>\n",
       "    </tr>\n",
       "    <tr>\n",
       "      <th>65440</th>\n",
       "      <td>113000424</td>\n",
       "      <td>7331708</td>\n",
       "      <td>동춘역(이마트.스퀘어원)</td>\n",
       "      <td>인천73아1708</td>\n",
       "      <td>5</td>\n",
       "      <td>2077</td>\n",
       "      <td>2022-03-08 09:31:32</td>\n",
       "      <td>3</td>\n",
       "      <td>8</td>\n",
       "      <td>9</td>\n",
       "      <td>31</td>\n",
       "      <td>32</td>\n",
       "    </tr>\n",
       "    <tr>\n",
       "      <th>65441</th>\n",
       "      <td>164000346</td>\n",
       "      <td>7331703</td>\n",
       "      <td>부천IC출입(미정차)</td>\n",
       "      <td>인천73아1703</td>\n",
       "      <td>1</td>\n",
       "      <td>731</td>\n",
       "      <td>2022-03-08 09:31:34</td>\n",
       "      <td>3</td>\n",
       "      <td>8</td>\n",
       "      <td>9</td>\n",
       "      <td>31</td>\n",
       "      <td>34</td>\n",
       "    </tr>\n",
       "    <tr>\n",
       "      <th>65442</th>\n",
       "      <td>113000424</td>\n",
       "      <td>7331708</td>\n",
       "      <td>동춘역(이마트.스퀘어원)</td>\n",
       "      <td>인천73아1708</td>\n",
       "      <td>5</td>\n",
       "      <td>1898</td>\n",
       "      <td>2022-03-08 09:32:00</td>\n",
       "      <td>3</td>\n",
       "      <td>8</td>\n",
       "      <td>9</td>\n",
       "      <td>32</td>\n",
       "      <td>0</td>\n",
       "    </tr>\n",
       "    <tr>\n",
       "      <th>65443</th>\n",
       "      <td>164000346</td>\n",
       "      <td>7331703</td>\n",
       "      <td>부천IC출입(미정차)</td>\n",
       "      <td>인천73아1703</td>\n",
       "      <td>1</td>\n",
       "      <td>639</td>\n",
       "      <td>2022-03-08 09:32:03</td>\n",
       "      <td>3</td>\n",
       "      <td>8</td>\n",
       "      <td>9</td>\n",
       "      <td>32</td>\n",
       "      <td>3</td>\n",
       "    </tr>\n",
       "  </tbody>\n",
       "</table>\n",
       "</div>"
      ],
      "text/plain": [
       "         bstopId    busId LATEST_STOP_NAME Bus_Num_Plate  Rest_Stop_Count  \\\n",
       "65439  164000346  7331703      부천IC출입(미정차)     인천73아1703                1   \n",
       "65440  113000424  7331708    동춘역(이마트.스퀘어원)     인천73아1708                5   \n",
       "65441  164000346  7331703      부천IC출입(미정차)     인천73아1703                1   \n",
       "65442  113000424  7331708    동춘역(이마트.스퀘어원)     인천73아1708                5   \n",
       "65443  164000346  7331703      부천IC출입(미정차)     인천73아1703                1   \n",
       "\n",
       "       ARRIVALESTIMATETIME              ThisDT  month  day  hour  minute  \\\n",
       "65439                  731 2022-03-08 09:31:06      3    8     9      31   \n",
       "65440                 2077 2022-03-08 09:31:32      3    8     9      31   \n",
       "65441                  731 2022-03-08 09:31:34      3    8     9      31   \n",
       "65442                 1898 2022-03-08 09:32:00      3    8     9      32   \n",
       "65443                  639 2022-03-08 09:32:03      3    8     9      32   \n",
       "\n",
       "       second  \n",
       "65439       6  \n",
       "65440      32  \n",
       "65441      34  \n",
       "65442       0  \n",
       "65443       3  "
      ]
     },
     "execution_count": 9,
     "metadata": {},
     "output_type": "execute_result"
    }
   ],
   "source": [
    "df.tail(5)"
   ]
  },
  {
   "cell_type": "code",
   "execution_count": 10,
   "id": "1d7eb362",
   "metadata": {},
   "outputs": [],
   "source": [
    "# 문자형 컬럼 원핫인코딩\n",
    "df = pd.get_dummies(df, columns = ['LATEST_STOP_NAME', 'Bus_Num_Plate'])"
   ]
  },
  {
   "cell_type": "code",
   "execution_count": 11,
   "id": "bd02fea3",
   "metadata": {},
   "outputs": [
    {
     "data": {
      "text/html": [
       "<div>\n",
       "<style scoped>\n",
       "    .dataframe tbody tr th:only-of-type {\n",
       "        vertical-align: middle;\n",
       "    }\n",
       "\n",
       "    .dataframe tbody tr th {\n",
       "        vertical-align: top;\n",
       "    }\n",
       "\n",
       "    .dataframe thead th {\n",
       "        text-align: right;\n",
       "    }\n",
       "</style>\n",
       "<table border=\"1\" class=\"dataframe\">\n",
       "  <thead>\n",
       "    <tr style=\"text-align: right;\">\n",
       "      <th></th>\n",
       "      <th>bstopId</th>\n",
       "      <th>busId</th>\n",
       "      <th>Rest_Stop_Count</th>\n",
       "      <th>ARRIVALESTIMATETIME</th>\n",
       "      <th>ThisDT</th>\n",
       "      <th>month</th>\n",
       "      <th>day</th>\n",
       "      <th>hour</th>\n",
       "      <th>minute</th>\n",
       "      <th>second</th>\n",
       "      <th>...</th>\n",
       "      <th>LATEST_STOP_NAME_홍대입구역(가상)</th>\n",
       "      <th>Bus_Num_Plate_인천73아1348</th>\n",
       "      <th>Bus_Num_Plate_인천73아1701</th>\n",
       "      <th>Bus_Num_Plate_인천73아1702</th>\n",
       "      <th>Bus_Num_Plate_인천73아1703</th>\n",
       "      <th>Bus_Num_Plate_인천73아1704</th>\n",
       "      <th>Bus_Num_Plate_인천73아1705</th>\n",
       "      <th>Bus_Num_Plate_인천73아1706</th>\n",
       "      <th>Bus_Num_Plate_인천73아1707</th>\n",
       "      <th>Bus_Num_Plate_인천73아1708</th>\n",
       "    </tr>\n",
       "  </thead>\n",
       "  <tbody>\n",
       "    <tr>\n",
       "      <th>0</th>\n",
       "      <td>113000424</td>\n",
       "      <td>7331704</td>\n",
       "      <td>5</td>\n",
       "      <td>2757</td>\n",
       "      <td>2022-02-16 15:05:22</td>\n",
       "      <td>2</td>\n",
       "      <td>16</td>\n",
       "      <td>15</td>\n",
       "      <td>5</td>\n",
       "      <td>22</td>\n",
       "      <td>...</td>\n",
       "      <td>0</td>\n",
       "      <td>0</td>\n",
       "      <td>0</td>\n",
       "      <td>0</td>\n",
       "      <td>0</td>\n",
       "      <td>1</td>\n",
       "      <td>0</td>\n",
       "      <td>0</td>\n",
       "      <td>0</td>\n",
       "      <td>0</td>\n",
       "    </tr>\n",
       "    <tr>\n",
       "      <th>1</th>\n",
       "      <td>164000346</td>\n",
       "      <td>7331707</td>\n",
       "      <td>1</td>\n",
       "      <td>1649</td>\n",
       "      <td>2022-02-16 15:05:24</td>\n",
       "      <td>2</td>\n",
       "      <td>16</td>\n",
       "      <td>15</td>\n",
       "      <td>5</td>\n",
       "      <td>24</td>\n",
       "      <td>...</td>\n",
       "      <td>0</td>\n",
       "      <td>0</td>\n",
       "      <td>0</td>\n",
       "      <td>0</td>\n",
       "      <td>0</td>\n",
       "      <td>0</td>\n",
       "      <td>0</td>\n",
       "      <td>0</td>\n",
       "      <td>1</td>\n",
       "      <td>0</td>\n",
       "    </tr>\n",
       "    <tr>\n",
       "      <th>2</th>\n",
       "      <td>113000424</td>\n",
       "      <td>7331704</td>\n",
       "      <td>5</td>\n",
       "      <td>2633</td>\n",
       "      <td>2022-02-16 15:06:01</td>\n",
       "      <td>2</td>\n",
       "      <td>16</td>\n",
       "      <td>15</td>\n",
       "      <td>6</td>\n",
       "      <td>1</td>\n",
       "      <td>...</td>\n",
       "      <td>0</td>\n",
       "      <td>0</td>\n",
       "      <td>0</td>\n",
       "      <td>0</td>\n",
       "      <td>0</td>\n",
       "      <td>1</td>\n",
       "      <td>0</td>\n",
       "      <td>0</td>\n",
       "      <td>0</td>\n",
       "      <td>0</td>\n",
       "    </tr>\n",
       "    <tr>\n",
       "      <th>3</th>\n",
       "      <td>164000346</td>\n",
       "      <td>7331707</td>\n",
       "      <td>1</td>\n",
       "      <td>1616</td>\n",
       "      <td>2022-02-16 15:06:03</td>\n",
       "      <td>2</td>\n",
       "      <td>16</td>\n",
       "      <td>15</td>\n",
       "      <td>6</td>\n",
       "      <td>3</td>\n",
       "      <td>...</td>\n",
       "      <td>0</td>\n",
       "      <td>0</td>\n",
       "      <td>0</td>\n",
       "      <td>0</td>\n",
       "      <td>0</td>\n",
       "      <td>0</td>\n",
       "      <td>0</td>\n",
       "      <td>0</td>\n",
       "      <td>1</td>\n",
       "      <td>0</td>\n",
       "    </tr>\n",
       "    <tr>\n",
       "      <th>4</th>\n",
       "      <td>113000424</td>\n",
       "      <td>7331704</td>\n",
       "      <td>5</td>\n",
       "      <td>2648</td>\n",
       "      <td>2022-02-16 15:06:29</td>\n",
       "      <td>2</td>\n",
       "      <td>16</td>\n",
       "      <td>15</td>\n",
       "      <td>6</td>\n",
       "      <td>29</td>\n",
       "      <td>...</td>\n",
       "      <td>0</td>\n",
       "      <td>0</td>\n",
       "      <td>0</td>\n",
       "      <td>0</td>\n",
       "      <td>0</td>\n",
       "      <td>1</td>\n",
       "      <td>0</td>\n",
       "      <td>0</td>\n",
       "      <td>0</td>\n",
       "      <td>0</td>\n",
       "    </tr>\n",
       "    <tr>\n",
       "      <th>...</th>\n",
       "      <td>...</td>\n",
       "      <td>...</td>\n",
       "      <td>...</td>\n",
       "      <td>...</td>\n",
       "      <td>...</td>\n",
       "      <td>...</td>\n",
       "      <td>...</td>\n",
       "      <td>...</td>\n",
       "      <td>...</td>\n",
       "      <td>...</td>\n",
       "      <td>...</td>\n",
       "      <td>...</td>\n",
       "      <td>...</td>\n",
       "      <td>...</td>\n",
       "      <td>...</td>\n",
       "      <td>...</td>\n",
       "      <td>...</td>\n",
       "      <td>...</td>\n",
       "      <td>...</td>\n",
       "      <td>...</td>\n",
       "      <td>...</td>\n",
       "    </tr>\n",
       "    <tr>\n",
       "      <th>65439</th>\n",
       "      <td>164000346</td>\n",
       "      <td>7331703</td>\n",
       "      <td>1</td>\n",
       "      <td>731</td>\n",
       "      <td>2022-03-08 09:31:06</td>\n",
       "      <td>3</td>\n",
       "      <td>8</td>\n",
       "      <td>9</td>\n",
       "      <td>31</td>\n",
       "      <td>6</td>\n",
       "      <td>...</td>\n",
       "      <td>0</td>\n",
       "      <td>0</td>\n",
       "      <td>0</td>\n",
       "      <td>0</td>\n",
       "      <td>1</td>\n",
       "      <td>0</td>\n",
       "      <td>0</td>\n",
       "      <td>0</td>\n",
       "      <td>0</td>\n",
       "      <td>0</td>\n",
       "    </tr>\n",
       "    <tr>\n",
       "      <th>65440</th>\n",
       "      <td>113000424</td>\n",
       "      <td>7331708</td>\n",
       "      <td>5</td>\n",
       "      <td>2077</td>\n",
       "      <td>2022-03-08 09:31:32</td>\n",
       "      <td>3</td>\n",
       "      <td>8</td>\n",
       "      <td>9</td>\n",
       "      <td>31</td>\n",
       "      <td>32</td>\n",
       "      <td>...</td>\n",
       "      <td>0</td>\n",
       "      <td>0</td>\n",
       "      <td>0</td>\n",
       "      <td>0</td>\n",
       "      <td>0</td>\n",
       "      <td>0</td>\n",
       "      <td>0</td>\n",
       "      <td>0</td>\n",
       "      <td>0</td>\n",
       "      <td>1</td>\n",
       "    </tr>\n",
       "    <tr>\n",
       "      <th>65441</th>\n",
       "      <td>164000346</td>\n",
       "      <td>7331703</td>\n",
       "      <td>1</td>\n",
       "      <td>731</td>\n",
       "      <td>2022-03-08 09:31:34</td>\n",
       "      <td>3</td>\n",
       "      <td>8</td>\n",
       "      <td>9</td>\n",
       "      <td>31</td>\n",
       "      <td>34</td>\n",
       "      <td>...</td>\n",
       "      <td>0</td>\n",
       "      <td>0</td>\n",
       "      <td>0</td>\n",
       "      <td>0</td>\n",
       "      <td>1</td>\n",
       "      <td>0</td>\n",
       "      <td>0</td>\n",
       "      <td>0</td>\n",
       "      <td>0</td>\n",
       "      <td>0</td>\n",
       "    </tr>\n",
       "    <tr>\n",
       "      <th>65442</th>\n",
       "      <td>113000424</td>\n",
       "      <td>7331708</td>\n",
       "      <td>5</td>\n",
       "      <td>1898</td>\n",
       "      <td>2022-03-08 09:32:00</td>\n",
       "      <td>3</td>\n",
       "      <td>8</td>\n",
       "      <td>9</td>\n",
       "      <td>32</td>\n",
       "      <td>0</td>\n",
       "      <td>...</td>\n",
       "      <td>0</td>\n",
       "      <td>0</td>\n",
       "      <td>0</td>\n",
       "      <td>0</td>\n",
       "      <td>0</td>\n",
       "      <td>0</td>\n",
       "      <td>0</td>\n",
       "      <td>0</td>\n",
       "      <td>0</td>\n",
       "      <td>1</td>\n",
       "    </tr>\n",
       "    <tr>\n",
       "      <th>65443</th>\n",
       "      <td>164000346</td>\n",
       "      <td>7331703</td>\n",
       "      <td>1</td>\n",
       "      <td>639</td>\n",
       "      <td>2022-03-08 09:32:03</td>\n",
       "      <td>3</td>\n",
       "      <td>8</td>\n",
       "      <td>9</td>\n",
       "      <td>32</td>\n",
       "      <td>3</td>\n",
       "      <td>...</td>\n",
       "      <td>0</td>\n",
       "      <td>0</td>\n",
       "      <td>0</td>\n",
       "      <td>0</td>\n",
       "      <td>1</td>\n",
       "      <td>0</td>\n",
       "      <td>0</td>\n",
       "      <td>0</td>\n",
       "      <td>0</td>\n",
       "      <td>0</td>\n",
       "    </tr>\n",
       "  </tbody>\n",
       "</table>\n",
       "<p>65444 rows × 37 columns</p>\n",
       "</div>"
      ],
      "text/plain": [
       "         bstopId    busId  Rest_Stop_Count  ARRIVALESTIMATETIME  \\\n",
       "0      113000424  7331704                5                 2757   \n",
       "1      164000346  7331707                1                 1649   \n",
       "2      113000424  7331704                5                 2633   \n",
       "3      164000346  7331707                1                 1616   \n",
       "4      113000424  7331704                5                 2648   \n",
       "...          ...      ...              ...                  ...   \n",
       "65439  164000346  7331703                1                  731   \n",
       "65440  113000424  7331708                5                 2077   \n",
       "65441  164000346  7331703                1                  731   \n",
       "65442  113000424  7331708                5                 1898   \n",
       "65443  164000346  7331703                1                  639   \n",
       "\n",
       "                   ThisDT  month  day  hour  minute  second  ...  \\\n",
       "0     2022-02-16 15:05:22      2   16    15       5      22  ...   \n",
       "1     2022-02-16 15:05:24      2   16    15       5      24  ...   \n",
       "2     2022-02-16 15:06:01      2   16    15       6       1  ...   \n",
       "3     2022-02-16 15:06:03      2   16    15       6       3  ...   \n",
       "4     2022-02-16 15:06:29      2   16    15       6      29  ...   \n",
       "...                   ...    ...  ...   ...     ...     ...  ...   \n",
       "65439 2022-03-08 09:31:06      3    8     9      31       6  ...   \n",
       "65440 2022-03-08 09:31:32      3    8     9      31      32  ...   \n",
       "65441 2022-03-08 09:31:34      3    8     9      31      34  ...   \n",
       "65442 2022-03-08 09:32:00      3    8     9      32       0  ...   \n",
       "65443 2022-03-08 09:32:03      3    8     9      32       3  ...   \n",
       "\n",
       "       LATEST_STOP_NAME_홍대입구역(가상)  Bus_Num_Plate_인천73아1348  \\\n",
       "0                               0                        0   \n",
       "1                               0                        0   \n",
       "2                               0                        0   \n",
       "3                               0                        0   \n",
       "4                               0                        0   \n",
       "...                           ...                      ...   \n",
       "65439                           0                        0   \n",
       "65440                           0                        0   \n",
       "65441                           0                        0   \n",
       "65442                           0                        0   \n",
       "65443                           0                        0   \n",
       "\n",
       "       Bus_Num_Plate_인천73아1701  Bus_Num_Plate_인천73아1702  \\\n",
       "0                            0                        0   \n",
       "1                            0                        0   \n",
       "2                            0                        0   \n",
       "3                            0                        0   \n",
       "4                            0                        0   \n",
       "...                        ...                      ...   \n",
       "65439                        0                        0   \n",
       "65440                        0                        0   \n",
       "65441                        0                        0   \n",
       "65442                        0                        0   \n",
       "65443                        0                        0   \n",
       "\n",
       "       Bus_Num_Plate_인천73아1703  Bus_Num_Plate_인천73아1704  \\\n",
       "0                            0                        1   \n",
       "1                            0                        0   \n",
       "2                            0                        1   \n",
       "3                            0                        0   \n",
       "4                            0                        1   \n",
       "...                        ...                      ...   \n",
       "65439                        1                        0   \n",
       "65440                        0                        0   \n",
       "65441                        1                        0   \n",
       "65442                        0                        0   \n",
       "65443                        1                        0   \n",
       "\n",
       "       Bus_Num_Plate_인천73아1705  Bus_Num_Plate_인천73아1706  \\\n",
       "0                            0                        0   \n",
       "1                            0                        0   \n",
       "2                            0                        0   \n",
       "3                            0                        0   \n",
       "4                            0                        0   \n",
       "...                        ...                      ...   \n",
       "65439                        0                        0   \n",
       "65440                        0                        0   \n",
       "65441                        0                        0   \n",
       "65442                        0                        0   \n",
       "65443                        0                        0   \n",
       "\n",
       "       Bus_Num_Plate_인천73아1707  Bus_Num_Plate_인천73아1708  \n",
       "0                            0                        0  \n",
       "1                            1                        0  \n",
       "2                            0                        0  \n",
       "3                            1                        0  \n",
       "4                            0                        0  \n",
       "...                        ...                      ...  \n",
       "65439                        0                        0  \n",
       "65440                        0                        1  \n",
       "65441                        0                        0  \n",
       "65442                        0                        1  \n",
       "65443                        0                        0  \n",
       "\n",
       "[65444 rows x 37 columns]"
      ]
     },
     "execution_count": 11,
     "metadata": {},
     "output_type": "execute_result"
    }
   ],
   "source": [
    "df"
   ]
  },
  {
   "cell_type": "markdown",
   "id": "e0ba8905",
   "metadata": {},
   "source": [
    "# 스케일링"
   ]
  },
  {
   "cell_type": "code",
   "execution_count": 12,
   "id": "1b83446b",
   "metadata": {},
   "outputs": [
    {
     "name": "stdout",
     "output_type": "stream",
     "text": [
      "최대:  5346\n",
      "최소:  18\n"
     ]
    }
   ],
   "source": [
    "# 최대 최소\n",
    "print(\"최대: \", df.ARRIVALESTIMATETIME.max())\n",
    "print(\"최소: \", df.ARRIVALESTIMATETIME.min())"
   ]
  },
  {
   "cell_type": "code",
   "execution_count": 13,
   "id": "00678fef",
   "metadata": {},
   "outputs": [],
   "source": [
    "# y = scaled_y * (5346-18) + 18"
   ]
  },
  {
   "cell_type": "code",
   "execution_count": 14,
   "id": "fb89839f",
   "metadata": {},
   "outputs": [],
   "source": [
    "from sklearn.preprocessing import MinMaxScaler\n",
    "\n",
    "df.sort_index(ascending=False).reset_index(drop=True)\n",
    "\n",
    "scaler = MinMaxScaler()\n",
    "scale_cols = ['ARRIVALESTIMATETIME']\n",
    "\n",
    "# scaler.fit(df_train_y)\n",
    "\n",
    "# df_train_x = scaler.transform(df_train_x)\n",
    "# df_test_x = scaler.transform(df_test_x)\n",
    "\n",
    "# df_train_y = scaler.transform(df_train_y)\n",
    "# df_test_y = scaler.transform(df_test_y)\n",
    "# X_origin = minmax_scaler.inverse_transform(X_train_scaled)\n",
    "\n",
    "\n",
    "\n",
    "df_scaled = scaler.fit_transform(df[scale_cols])\n",
    "df_scaled = pd.DataFrame(df_scaled)\n",
    "df_scaled.columns = scale_cols\n",
    "\n",
    "concat_df = df.copy()\n",
    "concat_df.drop(columns=scale_cols, inplace=True)\n",
    "\n",
    "df = pd.concat([concat_df, df_scaled], axis=1)"
   ]
  },
  {
   "cell_type": "code",
   "execution_count": 15,
   "id": "10c3d95e",
   "metadata": {},
   "outputs": [],
   "source": [
    "# 학습과 테스트 데이터 분리\n",
    "# 22일 전 후로 생성\n",
    "df_train = df.query('ThisDT <= \"2022-02-23\"').copy()\n",
    "df_test = df.query('ThisDT > \"2022-02-23\"').copy()"
   ]
  },
  {
   "cell_type": "code",
   "execution_count": 16,
   "id": "56ca1300",
   "metadata": {},
   "outputs": [],
   "source": [
    "# datetime 날짜 제거 > 모델 학습에 datetime 형식 지원 안 함\n",
    "df_train.drop(columns = ['ThisDT'], inplace=True)\n",
    "df_test.drop(columns = ['ThisDT'], inplace=True)\n",
    "# df_test = df_test.set_index('ThisDT')\n",
    "# df_train = df_train.set_index('ThisDT')"
   ]
  },
  {
   "cell_type": "code",
   "execution_count": 17,
   "id": "d7e4c46f",
   "metadata": {},
   "outputs": [],
   "source": [
    "# x, y 분리\n",
    "df_train_y = df_train.loc[:,'ARRIVALESTIMATETIME']\n",
    "df_train_x = df_train.drop('ARRIVALESTIMATETIME', axis=1)\n",
    "df_test_y = df_test.loc[:,'ARRIVALESTIMATETIME']\n",
    "df_test_x = df_test.drop('ARRIVALESTIMATETIME', axis=1)\n",
    "# 나중에 예측값과 비교하기 위해 test 데이터 복제본 저장\n",
    "df_test_orig = df_test.loc[:, ['ARRIVALESTIMATETIME']]\n"
   ]
  },
  {
   "cell_type": "code",
   "execution_count": 18,
   "id": "ec2d0301",
   "metadata": {},
   "outputs": [],
   "source": [
    "#3차원 배열로 변환\n",
    "train_x = np.array(df_train_x).reshape(df_train_x.shape[0], df_train_x.shape[1], 1)\n",
    "test_x = np.array(df_test_x).reshape(df_test_x.shape[0], df_test_x.shape[1], 1)"
   ]
  },
  {
   "cell_type": "code",
   "execution_count": 19,
   "id": "eb0daac3",
   "metadata": {},
   "outputs": [
    {
     "data": {
      "text/plain": [
       "(31794, 35, 1)"
      ]
     },
     "execution_count": 19,
     "metadata": {},
     "output_type": "execute_result"
    }
   ],
   "source": [
    "test_x.shape"
   ]
  },
  {
   "cell_type": "code",
   "execution_count": 20,
   "id": "cfd5001f",
   "metadata": {},
   "outputs": [],
   "source": [
    "#GPU 사용 설정\n",
    "import os\n",
    "os.environ[\"CUDA_VISIBLE_DEVICES\"] = \"0\""
   ]
  },
  {
   "cell_type": "code",
   "execution_count": 21,
   "id": "ee4120a6",
   "metadata": {},
   "outputs": [],
   "source": [
    "# copy from https://gist.github.com/stared/dfb4dfaf6d9a8501cd1cc8b8cb806d2e\n",
    "from tensorflow.keras.callbacks import Callback\n",
    "from IPython.display import clear_output\n",
    "\n",
    "class PlotLosses(Callback):\n",
    "\n",
    "  def on_train_begin(self, logs={}):\n",
    "\n",
    "    self.i = 0\n",
    "    self.x = []\n",
    "    self.losses = []\n",
    "    self.val_losses = []\n",
    "\n",
    "    self.fig = plt.figure()\n",
    "\n",
    "    self.logs = []\n",
    "\n",
    "\n",
    "  def on_epoch_end(self, epoch, logs={}):\n",
    "\n",
    "    self.logs.append(logs)\n",
    "    self.x.append(self.i)\n",
    "    self.losses.append(logs.get('loss'))\n",
    "    self.val_losses.append(logs.get('val_loss'))\n",
    "    self.i += 1\n",
    "\n",
    "    clear_output(wait=True)\n",
    "    plt.plot(self.x, self.losses, label=\"loss\")\n",
    "    plt.plot(self.x, self.val_losses, label=\"val_loss\")\n",
    "    plt.legend()\n",
    "    plt.show();\n",
    "    print(\"loss = \", self.losses[-1], \", val_loss = \", self.val_losses[-1])\n",
    "\n"
   ]
  },
  {
   "cell_type": "code",
   "execution_count": 34,
   "id": "3adfeae3",
   "metadata": {},
   "outputs": [
    {
     "name": "stdout",
     "output_type": "stream",
     "text": [
      "Epoch 1/10\n",
      "3029/3029 [==============================] - 23s 5ms/step - loss: 0.0309 - mae: 0.1443 - val_loss: 0.0219 - val_mae: 0.1256\n",
      "Epoch 2/10\n",
      "3029/3029 [==============================] - 15s 5ms/step - loss: 0.0219 - mae: 0.1220 - val_loss: 0.0199 - val_mae: 0.1189\n",
      "Epoch 3/10\n",
      "3029/3029 [==============================] - 16s 5ms/step - loss: 0.0192 - mae: 0.1117 - val_loss: 0.0169 - val_mae: 0.1041\n",
      "Epoch 4/10\n",
      "3029/3029 [==============================] - 16s 5ms/step - loss: 0.0159 - mae: 0.1001 - val_loss: 0.0124 - val_mae: 0.0881\n",
      "Epoch 5/10\n",
      "3029/3029 [==============================] - 15s 5ms/step - loss: 0.0126 - mae: 0.0877 - val_loss: 0.0087 - val_mae: 0.0689\n",
      "Epoch 6/10\n",
      "3029/3029 [==============================] - 15s 5ms/step - loss: 0.0105 - mae: 0.0781 - val_loss: 0.0078 - val_mae: 0.0647\n",
      "Epoch 7/10\n",
      "3029/3029 [==============================] - 15s 5ms/step - loss: 0.0094 - mae: 0.0737 - val_loss: 0.0082 - val_mae: 0.0672\n",
      "Epoch 8/10\n",
      "3029/3029 [==============================] - 15s 5ms/step - loss: 0.0088 - mae: 0.0713 - val_loss: 0.0070 - val_mae: 0.0603\n",
      "Epoch 9/10\n",
      "3029/3029 [==============================] - 15s 5ms/step - loss: 0.0087 - mae: 0.0704 - val_loss: 0.0071 - val_mae: 0.0623\n",
      "Epoch 10/10\n",
      "3029/3029 [==============================] - 16s 5ms/step - loss: 0.0083 - mae: 0.0689 - val_loss: 0.0073 - val_mae: 0.0601\n"
     ]
    },
    {
     "data": {
      "text/plain": [
       "<AxesSubplot:>"
      ]
     },
     "execution_count": 34,
     "metadata": {},
     "output_type": "execute_result"
    },
    {
     "data": {
      "image/png": "[encoded data removed]",
      "text/plain": [
       "<Figure size 432x288 with 1 Axes>"
      ]
     },
     "metadata": {
      "needs_background": "light"
     },
     "output_type": "display_data"
    }
   ],
   "source": [
    "# input shape에 전처리된 train_x의 형태를 넣는다\n",
    "# 20%로 Drop-out 했다\n",
    "\n",
    "#activation='relu'\n",
    "model = keras.Sequential()\n",
    "model.add(keras.layers.LSTM(units=16,input_shape=(train_x.shape[1], train_x.shape[2])))\n",
    "model.add(keras.layers.Dropout(rate=0.2))\n",
    "# model.add(keras.layers.Dense(units=4))\n",
    "model.add(keras.layers.Dense(units=1))\n",
    "model.compile(loss='mean_squared_error', optimizer='adam', metrics=['mae'])\n",
    "\n",
    "callbacks = [\n",
    "# `val_loss`가 2번의 에포크에 걸쳐 향상되지 않으면 훈련을 멈춥니다.\n",
    "tf.keras.callbacks.EarlyStopping(patience=2, monitor='val_loss'),\n",
    "# `./logs` 디렉토리에 텐서보드 로그를 기록니다.\n",
    "# tf.keras.callbacks.TensorBoard(log_dir='./logs')\n",
    "]\n",
    "\n",
    "plot_losses = PlotLosses() # ADD\n",
    "\n",
    "# 10개의 batch로 100번 epoch 함\n",
    "history = model.fit(train_x, df_train_y, validation_split=0.1, batch_size=10, epochs=10, callbacks=[callbacks])\n",
    "\n",
    "pd.DataFrame.from_dict(history.history).plot()"
   ]
  },
  {
   "cell_type": "code",
   "execution_count": 35,
   "id": "1236add4",
   "metadata": {},
   "outputs": [
    {
     "name": "stdout",
     "output_type": "stream",
     "text": [
      "R2 score(결정계수) = 0.658\n",
      "MSE : 0.013 , RMSE : 0.114\n"
     ]
    }
   ],
   "source": [
    "from sklearn.metrics import explained_variance_score\n",
    "from sklearn.metrics import r2_score\n",
    "from sklearn.metrics import mean_squared_error\n",
    "\n",
    "predictions = model.predict(test_x)\n",
    "\n",
    "# r_sq = model.score(df_test_x, df_test_y)\n",
    "mse = mean_squared_error(df_test_y, predictions)\n",
    "rmse = np.sqrt(mse)\n",
    "r2_ = r2_score(df_test_y, predictions)\n",
    "\n",
    "\n",
    "print('R2 score(결정계수) = {:.3f}'.format(r2_))\n",
    "# print('explained_variance_score(설명분산점수) : {0:.3f}'.format(explained_variance_score(predictions,df_test_y)))\n",
    "print('MSE : {0:.3f} , RMSE : {1:.3F}'.format(mse , rmse))"
   ]
  },
  {
   "cell_type": "code",
   "execution_count": 36,
   "id": "37635b7a",
   "metadata": {},
   "outputs": [
    {
     "data": {
      "text/plain": [
       "(31794, 1)"
      ]
     },
     "execution_count": 36,
     "metadata": {},
     "output_type": "execute_result"
    }
   ],
   "source": [
    "predictions.shape"
   ]
  },
  {
   "cell_type": "code",
   "execution_count": 21,
   "id": "a0dd7e1f",
   "metadata": {
    "collapsed": true
   },
   "outputs": [
    {
     "data": {
      "text/plain": [
       "array([[[113000412],\n",
       "        [  7331706],\n",
       "        [        2],\n",
       "        ...,\n",
       "        [        1],\n",
       "        [        0],\n",
       "        [        0]],\n",
       "\n",
       "       [[113000424],\n",
       "        [  7331708],\n",
       "        [        3],\n",
       "        ...,\n",
       "        [        0],\n",
       "        [        0],\n",
       "        [        1]],\n",
       "\n",
       "       [[164000346],\n",
       "        [  7331706],\n",
       "        [        6],\n",
       "        ...,\n",
       "        [        1],\n",
       "        [        0],\n",
       "        [        0]],\n",
       "\n",
       "       ...,\n",
       "\n",
       "       [[164000346],\n",
       "        [  7331703],\n",
       "        [        1],\n",
       "        ...,\n",
       "        [        0],\n",
       "        [        0],\n",
       "        [        0]],\n",
       "\n",
       "       [[113000424],\n",
       "        [  7331708],\n",
       "        [        5],\n",
       "        ...,\n",
       "        [        0],\n",
       "        [        0],\n",
       "        [        1]],\n",
       "\n",
       "       [[164000346],\n",
       "        [  7331703],\n",
       "        [        1],\n",
       "        ...,\n",
       "        [        0],\n",
       "        [        0],\n",
       "        [        0]]], dtype=int64)"
      ]
     },
     "execution_count": 21,
     "metadata": {},
     "output_type": "execute_result"
    }
   ],
   "source": [
    "test_x"
   ]
  },
  {
   "cell_type": "code",
   "execution_count": 25,
   "id": "4a7e4884",
   "metadata": {},
   "outputs": [
    {
     "data": {
      "text/plain": [
       "0   0.51408\n",
       "1   0.30612\n",
       "2   0.49080\n",
       "3   0.29992\n",
       "4   0.49362\n",
       "5   0.29992\n",
       "6   0.47372\n",
       "7   0.30612\n",
       "8   0.47635\n",
       "9   0.30612\n",
       "Name: ARRIVALESTIMATETIME, dtype: float64"
      ]
     },
     "execution_count": 25,
     "metadata": {},
     "output_type": "execute_result"
    }
   ],
   "source": [
    "df_train_y[df_train_y.index < 10]"
   ]
  },
  {
   "cell_type": "code",
   "execution_count": 27,
   "id": "f1dfe9b0",
   "metadata": {
    "scrolled": true
   },
   "outputs": [
    {
     "data": {
      "text/html": [
       "<div>\n",
       "<style scoped>\n",
       "    .dataframe tbody tr th:only-of-type {\n",
       "        vertical-align: middle;\n",
       "    }\n",
       "\n",
       "    .dataframe tbody tr th {\n",
       "        vertical-align: top;\n",
       "    }\n",
       "\n",
       "    .dataframe thead th {\n",
       "        text-align: right;\n",
       "    }\n",
       "</style>\n",
       "<table border=\"1\" class=\"dataframe\">\n",
       "  <thead>\n",
       "    <tr style=\"text-align: right;\">\n",
       "      <th></th>\n",
       "      <th>bstopId</th>\n",
       "      <th>busId</th>\n",
       "      <th>Rest_Stop_Count</th>\n",
       "      <th>month</th>\n",
       "      <th>day</th>\n",
       "      <th>hour</th>\n",
       "      <th>minute</th>\n",
       "      <th>second</th>\n",
       "      <th>LATEST_STOP_NAME_더샵엑스포빌리지</th>\n",
       "      <th>LATEST_STOP_NAME_동춘역(이마트.스퀘어원)</th>\n",
       "      <th>...</th>\n",
       "      <th>LATEST_STOP_NAME_홍대입구역(가상)</th>\n",
       "      <th>Bus_Num_Plate_인천73아1348</th>\n",
       "      <th>Bus_Num_Plate_인천73아1701</th>\n",
       "      <th>Bus_Num_Plate_인천73아1702</th>\n",
       "      <th>Bus_Num_Plate_인천73아1703</th>\n",
       "      <th>Bus_Num_Plate_인천73아1704</th>\n",
       "      <th>Bus_Num_Plate_인천73아1705</th>\n",
       "      <th>Bus_Num_Plate_인천73아1706</th>\n",
       "      <th>Bus_Num_Plate_인천73아1707</th>\n",
       "      <th>Bus_Num_Plate_인천73아1708</th>\n",
       "    </tr>\n",
       "  </thead>\n",
       "  <tbody>\n",
       "    <tr>\n",
       "      <th>9</th>\n",
       "      <td>164000346</td>\n",
       "      <td>7331707</td>\n",
       "      <td>1</td>\n",
       "      <td>2</td>\n",
       "      <td>16</td>\n",
       "      <td>15</td>\n",
       "      <td>7</td>\n",
       "      <td>29</td>\n",
       "      <td>0</td>\n",
       "      <td>0</td>\n",
       "      <td>...</td>\n",
       "      <td>0</td>\n",
       "      <td>0</td>\n",
       "      <td>0</td>\n",
       "      <td>0</td>\n",
       "      <td>0</td>\n",
       "      <td>0</td>\n",
       "      <td>0</td>\n",
       "      <td>0</td>\n",
       "      <td>1</td>\n",
       "      <td>0</td>\n",
       "    </tr>\n",
       "  </tbody>\n",
       "</table>\n",
       "<p>1 rows × 35 columns</p>\n",
       "</div>"
      ],
      "text/plain": [
       "     bstopId    busId  Rest_Stop_Count  month  day  hour  minute  second  \\\n",
       "9  164000346  7331707                1      2   16    15       7      29   \n",
       "\n",
       "   LATEST_STOP_NAME_더샵엑스포빌리지  LATEST_STOP_NAME_동춘역(이마트.스퀘어원)  ...  \\\n",
       "9                          0                               0  ...   \n",
       "\n",
       "   LATEST_STOP_NAME_홍대입구역(가상)  Bus_Num_Plate_인천73아1348  \\\n",
       "9                           0                        0   \n",
       "\n",
       "   Bus_Num_Plate_인천73아1701  Bus_Num_Plate_인천73아1702  Bus_Num_Plate_인천73아1703  \\\n",
       "9                        0                        0                        0   \n",
       "\n",
       "   Bus_Num_Plate_인천73아1704  Bus_Num_Plate_인천73아1705  Bus_Num_Plate_인천73아1706  \\\n",
       "9                        0                        0                        0   \n",
       "\n",
       "   Bus_Num_Plate_인천73아1707  Bus_Num_Plate_인천73아1708  \n",
       "9                        1                        0  \n",
       "\n",
       "[1 rows x 35 columns]"
      ]
     },
     "execution_count": 27,
     "metadata": {},
     "output_type": "execute_result"
    }
   ],
   "source": [
    "df_for_test = df_train_x[df_train_x.index == 9]\n",
    "df_for_test\n",
    "\n",
    "# df_tf = np.array(df_for_test).reshape(df_for_test.shape[0], df_for_test.shape[1], 1)"
   ]
  },
  {
   "cell_type": "code",
   "execution_count": 28,
   "id": "e5eb2472",
   "metadata": {},
   "outputs": [
    {
     "name": "stdout",
     "output_type": "stream",
     "text": [
      "<class 'pandas.core.frame.DataFrame'>\n",
      "Int64Index: 1 entries, 9 to 9\n",
      "Data columns (total 35 columns):\n",
      " #   Column                          Non-Null Count  Dtype\n",
      "---  ------                          --------------  -----\n",
      " 0   bstopId                         1 non-null      int64\n",
      " 1   busId                           1 non-null      int64\n",
      " 2   Rest_Stop_Count                 1 non-null      int64\n",
      " 3   month                           1 non-null      int64\n",
      " 4   day                             1 non-null      int64\n",
      " 5   hour                            1 non-null      int64\n",
      " 6   minute                          1 non-null      int64\n",
      " 7   second                          1 non-null      int64\n",
      " 8   LATEST_STOP_NAME_더샵엑스포빌리지       1 non-null      uint8\n",
      " 9   LATEST_STOP_NAME_동춘역(이마트.스퀘어원)  1 non-null      uint8\n",
      " 10  LATEST_STOP_NAME_부천IC진입(미정차)    1 non-null      uint8\n",
      " 11  LATEST_STOP_NAME_부천IC출입(미정차)    1 non-null      uint8\n",
      " 12  LATEST_STOP_NAME_서울역            1 non-null      uint8\n",
      " 13  LATEST_STOP_NAME_선유고등학교         1 non-null      uint8\n",
      " 14  LATEST_STOP_NAME_송도더샵퍼스트월드(서문)  1 non-null      uint8\n",
      " 15  LATEST_STOP_NAME_송도자이하버뷰        1 non-null      uint8\n",
      " 16  LATEST_STOP_NAME_송도풍림아이원2단지     1 non-null      uint8\n",
      " 17  LATEST_STOP_NAME_신월IC(미정차)      1 non-null      uint8\n",
      " 18  LATEST_STOP_NAME_신촌역2호선         1 non-null      uint8\n",
      " 19  LATEST_STOP_NAME_연세대            1 non-null      uint8\n",
      " 20  LATEST_STOP_NAME_연세대학교앞         1 non-null      uint8\n",
      " 21  LATEST_STOP_NAME_한진아파트          1 non-null      uint8\n",
      " 22  LATEST_STOP_NAME_합정역            1 non-null      uint8\n",
      " 23  LATEST_STOP_NAME_합정역(가상)        1 non-null      uint8\n",
      " 24  LATEST_STOP_NAME_홍대입구역          1 non-null      uint8\n",
      " 25  LATEST_STOP_NAME_홍대입구역(가상)      1 non-null      uint8\n",
      " 26  Bus_Num_Plate_인천73아1348         1 non-null      uint8\n",
      " 27  Bus_Num_Plate_인천73아1701         1 non-null      uint8\n",
      " 28  Bus_Num_Plate_인천73아1702         1 non-null      uint8\n",
      " 29  Bus_Num_Plate_인천73아1703         1 non-null      uint8\n",
      " 30  Bus_Num_Plate_인천73아1704         1 non-null      uint8\n",
      " 31  Bus_Num_Plate_인천73아1705         1 non-null      uint8\n",
      " 32  Bus_Num_Plate_인천73아1706         1 non-null      uint8\n",
      " 33  Bus_Num_Plate_인천73아1707         1 non-null      uint8\n",
      " 34  Bus_Num_Plate_인천73아1708         1 non-null      uint8\n",
      "dtypes: int64(8), uint8(27)\n",
      "memory usage: 99.0 bytes\n"
     ]
    }
   ],
   "source": [
    "df_for_test.info()"
   ]
  },
  {
   "cell_type": "code",
   "execution_count": 35,
   "id": "3840028c",
   "metadata": {},
   "outputs": [
    {
     "name": "stdout",
     "output_type": "stream",
     "text": [
      "<class 'pandas.core.frame.DataFrame'>\n",
      "Int64Index: 1 entries, 9 to 9\n",
      "Data columns (total 35 columns):\n",
      " #   Column                          Non-Null Count  Dtype  \n",
      "---  ------                          --------------  -----  \n",
      " 0   bstopId                         1 non-null      float64\n",
      " 1   busId                           1 non-null      float64\n",
      " 2   Rest_Stop_Count                 1 non-null      float64\n",
      " 3   month                           1 non-null      float64\n",
      " 4   day                             1 non-null      float64\n",
      " 5   hour                            1 non-null      float64\n",
      " 6   minute                          1 non-null      float64\n",
      " 7   second                          1 non-null      float64\n",
      " 8   LATEST_STOP_NAME_더샵엑스포빌리지       1 non-null      float64\n",
      " 9   LATEST_STOP_NAME_동춘역(이마트.스퀘어원)  1 non-null      float64\n",
      " 10  LATEST_STOP_NAME_부천IC진입(미정차)    1 non-null      float64\n",
      " 11  LATEST_STOP_NAME_부천IC출입(미정차)    1 non-null      float64\n",
      " 12  LATEST_STOP_NAME_서울역            1 non-null      float64\n",
      " 13  LATEST_STOP_NAME_선유고등학교         1 non-null      float64\n",
      " 14  LATEST_STOP_NAME_송도더샵퍼스트월드(서문)  1 non-null      float64\n",
      " 15  LATEST_STOP_NAME_송도자이하버뷰        1 non-null      float64\n",
      " 16  LATEST_STOP_NAME_송도풍림아이원2단지     1 non-null      float64\n",
      " 17  LATEST_STOP_NAME_신월IC(미정차)      1 non-null      float64\n",
      " 18  LATEST_STOP_NAME_신촌역2호선         1 non-null      float64\n",
      " 19  LATEST_STOP_NAME_연세대            1 non-null      float64\n",
      " 20  LATEST_STOP_NAME_연세대학교앞         1 non-null      float64\n",
      " 21  LATEST_STOP_NAME_한진아파트          1 non-null      float64\n",
      " 22  LATEST_STOP_NAME_합정역            1 non-null      float64\n",
      " 23  LATEST_STOP_NAME_합정역(가상)        1 non-null      float64\n",
      " 24  LATEST_STOP_NAME_홍대입구역          1 non-null      float64\n",
      " 25  LATEST_STOP_NAME_홍대입구역(가상)      1 non-null      float64\n",
      " 26  Bus_Num_Plate_인천73아1348         1 non-null      float64\n",
      " 27  Bus_Num_Plate_인천73아1701         1 non-null      float64\n",
      " 28  Bus_Num_Plate_인천73아1702         1 non-null      float64\n",
      " 29  Bus_Num_Plate_인천73아1703         1 non-null      float64\n",
      " 30  Bus_Num_Plate_인천73아1704         1 non-null      float64\n",
      " 31  Bus_Num_Plate_인천73아1705         1 non-null      float64\n",
      " 32  Bus_Num_Plate_인천73아1706         1 non-null      float64\n",
      " 33  Bus_Num_Plate_인천73아1707         1 non-null      float64\n",
      " 34  Bus_Num_Plate_인천73아1708         1 non-null      float64\n",
      "dtypes: float64(35)\n",
      "memory usage: 288.0 bytes\n"
     ]
    }
   ],
   "source": [
    "df_for_test = df_for_test.astype('float')\n",
    "df_for_test.info()\n",
    "df_for_test.to_csv('./test_data.csv', header=True, index=False, encoding=\"utf-8-sig\")"
   ]
  },
  {
   "cell_type": "code",
   "execution_count": 38,
   "id": "a6996f90",
   "metadata": {},
   "outputs": [],
   "source": [
    "# np.save( './np', df_tf)"
   ]
  },
  {
   "cell_type": "code",
   "execution_count": 39,
   "id": "795ca798",
   "metadata": {
    "scrolled": true
   },
   "outputs": [
    {
     "data": {
      "text/plain": [
       "(10, 35)"
      ]
     },
     "execution_count": 39,
     "metadata": {},
     "output_type": "execute_result"
    }
   ],
   "source": [
    "df_for_test.shape"
   ]
  },
  {
   "cell_type": "code",
   "execution_count": 40,
   "id": "66059d12",
   "metadata": {},
   "outputs": [
    {
     "ename": "NameError",
     "evalue": "name 'df_tf' is not defined",
     "output_type": "error",
     "traceback": [
      "\u001b[1;31m---------------------------------------------------------------------------\u001b[0m",
      "\u001b[1;31mNameError\u001b[0m                                 Traceback (most recent call last)",
      "\u001b[1;32m~\\AppData\\Local\\Temp/ipykernel_11100/649329378.py\u001b[0m in \u001b[0;36m<module>\u001b[1;34m\u001b[0m\n\u001b[1;32m----> 1\u001b[1;33m \u001b[0mdf_tf\u001b[0m\u001b[1;33m.\u001b[0m\u001b[0mshape\u001b[0m\u001b[1;33m\u001b[0m\u001b[1;33m\u001b[0m\u001b[0m\n\u001b[0m",
      "\u001b[1;31mNameError\u001b[0m: name 'df_tf' is not defined"
     ]
    }
   ],
   "source": [
    "df_tf.shape"
   ]
  },
  {
   "cell_type": "code",
   "execution_count": 37,
   "id": "cfaf2cf4",
   "metadata": {
    "scrolled": true
   },
   "outputs": [
    {
     "data": {
      "text/plain": [
       "array([[0.36245513]], dtype=float32)"
      ]
     },
     "execution_count": 37,
     "metadata": {},
     "output_type": "execute_result"
    }
   ],
   "source": [
    "predictions = model.predict(df_tf)\n",
    "predictions"
   ]
  },
  {
   "cell_type": "code",
   "execution_count": 38,
   "id": "ef0cfd95",
   "metadata": {
    "scrolled": true
   },
   "outputs": [
    {
     "name": "stdout",
     "output_type": "stream",
     "text": [
      "[[[113000424]\n",
      "  [  7331704]\n",
      "  [        5]\n",
      "  [        2]\n",
      "  [       16]\n",
      "  [       15]\n",
      "  [        5]\n",
      "  [       22]\n",
      "  [        0]\n",
      "  [        1]\n",
      "  [        0]\n",
      "  [        0]\n",
      "  [        0]\n",
      "  [        0]\n",
      "  [        0]\n",
      "  [        0]\n",
      "  [        0]\n",
      "  [        0]\n",
      "  [        0]\n",
      "  [        0]\n",
      "  [        0]\n",
      "  [        0]\n",
      "  [        0]\n",
      "  [        0]\n",
      "  [        0]\n",
      "  [        0]\n",
      "  [        0]\n",
      "  [        0]\n",
      "  [        0]\n",
      "  [        0]\n",
      "  [        1]\n",
      "  [        0]\n",
      "  [        0]\n",
      "  [        0]\n",
      "  [        0]]]\n"
     ]
    }
   ],
   "source": [
    "print(df_tf)"
   ]
  },
  {
   "cell_type": "code",
   "execution_count": 29,
   "id": "d6faddda",
   "metadata": {},
   "outputs": [
    {
     "ename": "NameError",
     "evalue": "name 'df_for_test2' is not defined",
     "output_type": "error",
     "traceback": [
      "\u001b[1;31m---------------------------------------------------------------------------\u001b[0m",
      "\u001b[1;31mNameError\u001b[0m                                 Traceback (most recent call last)",
      "\u001b[1;32m~\\AppData\\Local\\Temp/ipykernel_34216/530996877.py\u001b[0m in \u001b[0;36m<module>\u001b[1;34m\u001b[0m\n\u001b[1;32m----> 1\u001b[1;33m \u001b[0mdf_for_test2\u001b[0m\u001b[1;33m.\u001b[0m\u001b[0minfo\u001b[0m\u001b[1;33m(\u001b[0m\u001b[1;33m)\u001b[0m\u001b[1;33m\u001b[0m\u001b[1;33m\u001b[0m\u001b[0m\n\u001b[0m",
      "\u001b[1;31mNameError\u001b[0m: name 'df_for_test2' is not defined"
     ]
    }
   ],
   "source": [
    "df_for_test2.info()"
   ]
  },
  {
   "cell_type": "code",
   "execution_count": null,
   "id": "192520e1",
   "metadata": {
    "scrolled": true
   },
   "outputs": [],
   "source": [
    "df_for_test2 = pd.read_csv('test.csv', encoding='cp949', header=None)\n",
    "df_for_test2"
   ]
  },
  {
   "cell_type": "code",
   "execution_count": null,
   "id": "e41bf5b7",
   "metadata": {},
   "outputs": [],
   "source": [
    "predictions = model.predict(df_tf)\n",
    "predictions"
   ]
  },
  {
   "cell_type": "code",
   "execution_count": null,
   "id": "d9736878",
   "metadata": {},
   "outputs": [],
   "source": [
    "predictions = model.predict(df_for_test)\n",
    "predictions"
   ]
  },
  {
   "cell_type": "code",
   "execution_count": null,
   "id": "542086be",
   "metadata": {},
   "outputs": [],
   "source": [
    "predictions = model.predict(df_for_test2)\n",
    "predictions"
   ]
  },
  {
   "cell_type": "markdown",
   "id": "c51d665d",
   "metadata": {},
   "source": [
    "# 모델 저장"
   ]
  },
  {
   "cell_type": "code",
   "execution_count": null,
   "id": "72a9c148",
   "metadata": {
    "scrolled": true
   },
   "outputs": [],
   "source": [
    "model.save('./saved_model/my_model')"
   ]
  },
  {
   "cell_type": "code",
   "execution_count": null,
   "id": "62d89466",
   "metadata": {},
   "outputs": [],
   "source": [
    "loaded = tf.saved_model.load(\"./saved_model/my_model\")\n",
    "print(list(loaded.signatures.keys()))"
   ]
  },
  {
   "cell_type": "markdown",
   "id": "e239c678",
   "metadata": {},
   "source": [
    "# 모델 저장2"
   ]
  },
  {
   "cell_type": "markdown",
   "id": "f1e43088",
   "metadata": {},
   "source": [
    "# Placeholder"
   ]
  },
  {
   "cell_type": "code",
   "execution_count": null,
   "id": "a403d7f7",
   "metadata": {},
   "outputs": [],
   "source": [
    "import tensorflow.compat.v1 as tf\n",
    "tf.disable_v2_behavior()\n",
    "\n",
    "I = tf.placeholder(tf.float32, [None, 35, 1])\n",
    "W = tf.placeholder(tf.float32, [1, 1])\n",
    "\n",
    "sess = tf.Session()\n",
    "sess.run(tf.global_variables_initializer())\n",
    "\n",
    "\n",
    "export_dir_path = \"./saved_model/my_model_2\"\n",
    "\n",
    "builder = tf.saved_model.builder.SavedModelBuilder(export_dir_path)\n",
    "\n",
    "signature = tf.saved_model.signature_def_utils.build_signature_def(\n",
    "#     inputs={\n",
    "#         \"in1\": tf.saved_model.utils.build_tensor_info(self.X)\n",
    "#     },\n",
    "#     outputs={\n",
    "#         \"out1\": tf.saved_model.utils.build_tensor_info(self.output)\n",
    "#     },\n",
    "    method_name=tf.saved_model.signature_constants.PREDICT_METHOD_NAME\n",
    ")\n",
    "builder.add_meta_graph_and_variables(\n",
    "    sess,\n",
    "    tags=[tf.saved_model.tag_constants.SERVING],\n",
    "    signature_def_map={\"Bus\": signature},\n",
    "    assets_collection=None,\n",
    "    legacy_init_op=None,\n",
    "    clear_devices=None,\n",
    "    main_op=None)\n",
    "builder.save()\n",
    "\n",
    "sess.close()"
   ]
  },
  {
   "cell_type": "code",
   "execution_count": null,
   "id": "60717cdd",
   "metadata": {},
   "outputs": [],
   "source": []
  },
  {
   "cell_type": "code",
   "execution_count": null,
   "id": "b6a49e68",
   "metadata": {},
   "outputs": [],
   "source": []
  },
  {
   "cell_type": "code",
   "execution_count": null,
   "id": "446093fa",
   "metadata": {},
   "outputs": [],
   "source": []
  },
  {
   "cell_type": "code",
   "execution_count": null,
   "id": "917669e0",
   "metadata": {},
   "outputs": [],
   "source": []
  },
  {
   "cell_type": "code",
   "execution_count": null,
   "id": "a0564164",
   "metadata": {},
   "outputs": [],
   "source": []
  },
  {
   "cell_type": "code",
   "execution_count": null,
   "id": "7dd0ae84",
   "metadata": {},
   "outputs": [],
   "source": []
  },
  {
   "cell_type": "code",
   "execution_count": null,
   "id": "f2461b12",
   "metadata": {},
   "outputs": [],
   "source": []
  },
  {
   "cell_type": "markdown",
   "id": "0c89e367",
   "metadata": {},
   "source": [
    "# 시각화"
   ]
  },
  {
   "cell_type": "code",
   "execution_count": null,
   "id": "fc615c6a",
   "metadata": {},
   "outputs": [],
   "source": [
    "df1 = df_test_x[(df_test_x['bstopId']==113000424) & (df_test_x['month'] == 2) & (df_test_x['day'] == 25)].copy()\n",
    "test_x = np.array(df1).reshape(df1.shape[0], df1.shape[1], 1)\n",
    "result = model.predict(test_x)\n",
    "\n",
    "# 그래프로 비교해 보기 위해 결과를 Original Data에 붙임\n",
    "result_df=pd.concat([df[(df['bstopId']==113000424) & (df['month'] == 2) & (df['day'] == 25)].reset_index(), \n",
    "                     pd.DataFrame(result, columns=['lstm'])], axis=1, ignore_index=False)\n",
    "\n",
    "# 결과에서 date를 x축으로 실측 sales와 lstm의 결과를 y로 두고 비교\n",
    "# result_df.set_index('ThisDT').loc[:, ['ARRIVALESTIMATETIME', 'lstm']]\n",
    "\n",
    "# result=pd.concat([df[(df['bstopId']==113000424) & (df['year'] == 2022 )& (df['month'] == 2) & (df['day'] == 22)].reset_index()\n",
    "#                   , pd.DataFrame(df1, columns=['lstm'])], axis=1, ignore_index=False)\n",
    "result_df = result_df.set_index('ThisDT')\n",
    "result_df = result_df.loc[:, ['ARRIVALESTIMATETIME', 'lstm']]\n",
    "\n",
    "\n",
    "\n",
    "# # 그래프 생성\n",
    "plt.style.use('ggplot')\n",
    "plt.figure(figsize=(10,5))\n",
    "plt.title(\"예측 결과(2/22 화요일)  합정역 / 서울역 방면\\n\", fontsize=20)\n",
    "plt.ylabel('도착 예정 시간(초)', fontsize=12)\n",
    "plt.xlabel('시간', fontsize=12)\n",
    "plt.plot(result_df, label = ['실제', '예측'])\n",
    "plt.legend(fontsize=10)"
   ]
  },
  {
   "cell_type": "code",
   "execution_count": null,
   "id": "1d5bbe5b",
   "metadata": {},
   "outputs": [],
   "source": [
    "df1 = df_test_x[(df_test_x['bstopId']==113000424) & (df_test_x['month'] == 2) & (df_test_x['day'] == 25)].copy()\n",
    "test_x = np.array(df1).reshape(df1.shape[0], df1.shape[1], 1)\n",
    "result = model.predict(test_x)\n",
    "\n",
    "# 그래프로 비교해 보기 위해 결과를 Original Data에 붙임\n",
    "result_df=pd.concat([df[(df['bstopId']==113000424) & (df['month'] == 2) & (df['day'] == 25)].reset_index(), \n",
    "                     pd.DataFrame(result, columns=['lstm'])], axis=1, ignore_index=False)\n",
    "\n",
    "# 결과에서 date를 x축으로 실측 sales와 lstm의 결과를 y로 두고 비교\n",
    "# result_df.set_index('ThisDT').loc[:, ['ARRIVALESTIMATETIME', 'lstm']]\n",
    "\n",
    "# result=pd.concat([df[(df['bstopId']==113000424) & (df['year'] == 2022 )& (df['month'] == 2) & (df['day'] == 22)].reset_index()\n",
    "#                   , pd.DataFrame(df1, columns=['lstm'])], axis=1, ignore_index=False)\n",
    "result_df = result_df.set_index('ThisDT')\n",
    "result_df = result_df.loc[:, ['ARRIVALESTIMATETIME', 'lstm']]\n",
    "\n",
    "\n",
    "\n",
    "# # 그래프 생성\n",
    "plt.style.use('ggplot')\n",
    "plt.figure(figsize=(10,5))\n",
    "plt.title(\"예측 결과(2/22 화요일)  합정역 / 서울역 방면\\n\", fontsize=20)\n",
    "plt.ylabel('도착 예정 시간(초)', fontsize=12)\n",
    "plt.xlabel('시간', fontsize=12)\n",
    "plt.plot(result_df, label = ['실제', '예측'])\n",
    "plt.legend(fontsize=10)"
   ]
  },
  {
   "cell_type": "code",
   "execution_count": null,
   "id": "dbac2d9d",
   "metadata": {},
   "outputs": [],
   "source": [
    "result_df"
   ]
  },
  {
   "cell_type": "code",
   "execution_count": null,
   "id": "aa6556da",
   "metadata": {
    "scrolled": false
   },
   "outputs": [],
   "source": [
    "df1 = df_test_x[(df_test_x['bstopId']==113000424) & (df_test_x['month'] == 2) & (df_test_x['day'] == 22)].copy()\n",
    "test_x = np.array(df1).reshape(df1.shape[0], df1.shape[1], 1)\n",
    "result = model.predict(test_x)\n",
    "\n",
    "# 그래프로 비교해 보기 위해 결과를 Original Data에 붙임\n",
    "result_df=pd.concat([df[(df['bstopId']==113000424) & (df['month'] == 2) & (df['day'] == 22)].reset_index(), \n",
    "                     pd.DataFrame(result, columns=['lstm'])], axis=1, ignore_index=False)\n",
    "\n",
    "# 결과에서 date를 x축으로 실측 sales와 lstm의 결과를 y로 두고 비교\n",
    "# result_df.set_index('ThisDT').loc[:, ['ARRIVALESTIMATETIME', 'lstm']]\n",
    "\n",
    "# result=pd.concat([df[(df['bstopId']==113000424) & (df['year'] == 2022 )& (df['month'] == 2) & (df['day'] == 22)].reset_index()\n",
    "#                   , pd.DataFrame(df1, columns=['lstm'])], axis=1, ignore_index=False)\n",
    "result_df = result_df.set_index('ThisDT')\n",
    "result_df = result_df.loc[:, ['ARRIVALESTIMATETIME', 'lstm']]\n",
    "\n",
    "\n",
    "\n",
    "# # 그래프 생성\n",
    "plt.style.use('ggplot')\n",
    "plt.figure(figsize=(10,5))\n",
    "plt.title(\"예측 결과(2/22 화요일)  합정역 / 서울역 방면\\n\", fontsize=20)\n",
    "plt.ylabel('도착 예정 시간(초)', fontsize=12)\n",
    "plt.xlabel('시간', fontsize=12)\n",
    "plt.plot(result_df, label = ['실제', '예측'])\n",
    "plt.legend(fontsize=10)"
   ]
  },
  {
   "cell_type": "code",
   "execution_count": null,
   "id": "8b9406a1",
   "metadata": {},
   "outputs": [],
   "source": [
    "# 2월 22일 데이터 추출 및 예측값 생성\n",
    "df_0222 = df_test_x[(df_test_x['bstopId']==113000412) & (df_test_x['month'] == 3) & (df_test_x['day'] == 2)].copy()\n",
    "test_x = np.array(df_0222).reshape(df_0222.shape[0], df_0222.shape[1], 1)\n",
    "df_0222_predict = model.predict(test_x)\n",
    "\n",
    "# 실제 데이터와 비교를 위해서 result 데이터 프레임 생성\n",
    "result=pd.concat([df[(df['bstopId']==113000412) & (df['month'] == 3) & (df['day'] == 2)].reset_index()\n",
    "                  , pd.DataFrame(df_0222_predict, columns=['lstm'])], axis=1, ignore_index=False)\n",
    "result = result.set_index('ThisDT')\n",
    "result = result.loc[:, ['ARRIVALESTIMATETIME', 'lstm']]\n",
    "result = result*5124\n",
    "\n",
    "\n",
    "# 그래프 생성\n",
    "plt.style.use('ggplot')\n",
    "plt.figure(figsize=(10,5))\n",
    "plt.title(\"예측 결과(2/22 화요일)  합정역 / 연세대(인천) 방면 \\n\", fontsize=20)\n",
    "plt.ylabel('도착 예정 시간(초)', fontsize=12)\n",
    "plt.xlabel('시간', fontsize=12)\n",
    "plt.plot(result, label = ['실제', '예측'])\n",
    "plt.legend(fontsize=10)"
   ]
  },
  {
   "cell_type": "code",
   "execution_count": null,
   "id": "a80cdb7e",
   "metadata": {},
   "outputs": [],
   "source": []
  }
 ],
 "metadata": {
  "kernelspec": {
   "display_name": "Python 3 (ipykernel)",
   "language": "python",
   "name": "python3"
  },
  "language_info": {
   "codemirror_mode": {
    "name": "ipython",
    "version": 3
   },
   "file_extension": ".py",
   "mimetype": "text/x-python",
   "name": "python",
   "nbconvert_exporter": "python",
   "pygments_lexer": "ipython3",
   "version": "3.9.7"
  }
 },
 "nbformat": 4,
 "nbformat_minor": 5
}
