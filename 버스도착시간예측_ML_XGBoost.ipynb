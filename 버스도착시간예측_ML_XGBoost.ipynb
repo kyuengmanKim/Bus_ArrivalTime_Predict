{
 "cells": [
  {
   "cell_type": "markdown",
   "id": "1dd41111",
   "metadata": {},
   "source": [
    "# 데이터 기본 정보 조회"
   ]
  },
  {
   "cell_type": "code",
   "execution_count": 1,
   "id": "56e97c95",
   "metadata": {},
   "outputs": [],
   "source": [
    "import pandas as pd\n",
    "import numpy as np\n",
    "\n",
    "# 날짜\n",
    "import datetime as dt\n",
    "\n",
    "#시각화\n",
    "import matplotlib.pyplot as plt\n",
    "import seaborn as sns\n",
    "import matplotlib as mpl\n",
    "\n",
    "#한글 폰트 설정\n",
    "plt.rc('font', family='NanumBarunGothic')\n",
    "\n",
    "# 머신러닝\n",
    "import xgboost as xgb\n",
    "from xgboost import plot_importance, plot_tree\n",
    "from xgboost import XGBClassifier\n",
    "\n",
    "#경고 무시\n",
    "import warnings\n",
    "warnings.filterwarnings('ignore')"
   ]
  },
  {
   "cell_type": "code",
   "execution_count": 2,
   "id": "202f1be0-b85f-4b22-8c2c-b42316f9c056",
   "metadata": {},
   "outputs": [],
   "source": [
    "# 한글폰트 설치\n",
    "\n",
    "# !sudo apt-get install -y fonts-nanum\n",
    "# !sudo fc-cache -fv\n",
    "# !rm ~/.cache/matplotlib -rf\n",
    "\n",
    "# 폰트 리스트 확인\n",
    "\n",
    "# import matplotlib.font_manager as fm\n",
    "# font_list = fm.findSystemFonts(fontpaths = None, fontext = 'ttf')\n",
    "# font_list[:]"
   ]
  },
  {
   "cell_type": "code",
   "execution_count": 3,
   "id": "efe476eb",
   "metadata": {},
   "outputs": [],
   "source": [
    "# 데이터 로드\n",
    "# path: SAi-Da_튜토리얼_버스/data/bus_final.csv\n",
    "df = pd.read_csv(\"./data/bus_final.csv\")"
   ]
  },
  {
   "cell_type": "code",
   "execution_count": 4,
   "id": "fea025f4",
   "metadata": {
    "scrolled": true
   },
   "outputs": [
    {
     "data": {
      "text/html": [
       "<div>\n",
       "<style scoped>\n",
       "    .dataframe tbody tr th:only-of-type {\n",
       "        vertical-align: middle;\n",
       "    }\n",
       "\n",
       "    .dataframe tbody tr th {\n",
       "        vertical-align: top;\n",
       "    }\n",
       "\n",
       "    .dataframe thead th {\n",
       "        text-align: right;\n",
       "    }\n",
       "</style>\n",
       "<table border=\"1\" class=\"dataframe\">\n",
       "  <thead>\n",
       "    <tr style=\"text-align: right;\">\n",
       "      <th></th>\n",
       "      <th>bstopId</th>\n",
       "      <th>routeNo</th>\n",
       "      <th>routeId</th>\n",
       "      <th>bstopNm</th>\n",
       "      <th>busId</th>\n",
       "      <th>LATEST_STOP_NAME</th>\n",
       "      <th>Bus_Num_Plate</th>\n",
       "      <th>Rest_Stop_Count</th>\n",
       "      <th>ARRIVALESTIMATETIME</th>\n",
       "      <th>ThisDT</th>\n",
       "    </tr>\n",
       "  </thead>\n",
       "  <tbody>\n",
       "    <tr>\n",
       "      <th>0</th>\n",
       "      <td>113000424</td>\n",
       "      <td>M6724</td>\n",
       "      <td>165000381</td>\n",
       "      <td>합정역</td>\n",
       "      <td>7331704</td>\n",
       "      <td>동춘역(이마트.스퀘어원)</td>\n",
       "      <td>인천73아1704</td>\n",
       "      <td>5</td>\n",
       "      <td>2757</td>\n",
       "      <td>2022-02-16 15:05:22</td>\n",
       "    </tr>\n",
       "    <tr>\n",
       "      <th>1</th>\n",
       "      <td>164000346</td>\n",
       "      <td>M6724</td>\n",
       "      <td>165000381</td>\n",
       "      <td>동춘역</td>\n",
       "      <td>7331707</td>\n",
       "      <td>부천IC출입(미정차)</td>\n",
       "      <td>인천73아1707</td>\n",
       "      <td>1</td>\n",
       "      <td>1649</td>\n",
       "      <td>2022-02-16 15:05:24</td>\n",
       "    </tr>\n",
       "    <tr>\n",
       "      <th>2</th>\n",
       "      <td>113000424</td>\n",
       "      <td>M6724</td>\n",
       "      <td>165000381</td>\n",
       "      <td>합정역</td>\n",
       "      <td>7331704</td>\n",
       "      <td>동춘역(이마트.스퀘어원)</td>\n",
       "      <td>인천73아1704</td>\n",
       "      <td>5</td>\n",
       "      <td>2633</td>\n",
       "      <td>2022-02-16 15:06:01</td>\n",
       "    </tr>\n",
       "  </tbody>\n",
       "</table>\n",
       "</div>"
      ],
      "text/plain": [
       "     bstopId routeNo    routeId bstopNm    busId LATEST_STOP_NAME  \\\n",
       "0  113000424   M6724  165000381     합정역  7331704    동춘역(이마트.스퀘어원)   \n",
       "1  164000346   M6724  165000381     동춘역  7331707      부천IC출입(미정차)   \n",
       "2  113000424   M6724  165000381     합정역  7331704    동춘역(이마트.스퀘어원)   \n",
       "\n",
       "  Bus_Num_Plate  Rest_Stop_Count  ARRIVALESTIMATETIME               ThisDT  \n",
       "0     인천73아1704                5                 2757  2022-02-16 15:05:22  \n",
       "1     인천73아1707                1                 1649  2022-02-16 15:05:24  \n",
       "2     인천73아1704                5                 2633  2022-02-16 15:06:01  "
      ]
     },
     "execution_count": 4,
     "metadata": {},
     "output_type": "execute_result"
    }
   ],
   "source": [
    "# 데이터 프레임 상단 5개 조회\n",
    "df.head(3)"
   ]
  },
  {
   "cell_type": "code",
   "execution_count": 5,
   "id": "271980f1",
   "metadata": {},
   "outputs": [
    {
     "data": {
      "text/html": [
       "<div>\n",
       "<style scoped>\n",
       "    .dataframe tbody tr th:only-of-type {\n",
       "        vertical-align: middle;\n",
       "    }\n",
       "\n",
       "    .dataframe tbody tr th {\n",
       "        vertical-align: top;\n",
       "    }\n",
       "\n",
       "    .dataframe thead th {\n",
       "        text-align: right;\n",
       "    }\n",
       "</style>\n",
       "<table border=\"1\" class=\"dataframe\">\n",
       "  <thead>\n",
       "    <tr style=\"text-align: right;\">\n",
       "      <th></th>\n",
       "      <th>bstopId</th>\n",
       "      <th>routeNo</th>\n",
       "      <th>routeId</th>\n",
       "      <th>bstopNm</th>\n",
       "      <th>busId</th>\n",
       "      <th>LATEST_STOP_NAME</th>\n",
       "      <th>Bus_Num_Plate</th>\n",
       "      <th>Rest_Stop_Count</th>\n",
       "      <th>ARRIVALESTIMATETIME</th>\n",
       "      <th>ThisDT</th>\n",
       "    </tr>\n",
       "  </thead>\n",
       "  <tbody>\n",
       "    <tr>\n",
       "      <th>257287</th>\n",
       "      <td>164000346</td>\n",
       "      <td>M6724</td>\n",
       "      <td>165000381</td>\n",
       "      <td>동춘역</td>\n",
       "      <td>7331702</td>\n",
       "      <td>신월IC(미정차)</td>\n",
       "      <td>인천73아1702</td>\n",
       "      <td>2</td>\n",
       "      <td>2299</td>\n",
       "      <td>2022-04-13 16:00:26</td>\n",
       "    </tr>\n",
       "    <tr>\n",
       "      <th>257288</th>\n",
       "      <td>113000424</td>\n",
       "      <td>M6724</td>\n",
       "      <td>165000381</td>\n",
       "      <td>합정역</td>\n",
       "      <td>7331706</td>\n",
       "      <td>동춘역(이마트.스퀘어원)</td>\n",
       "      <td>인천73아1706</td>\n",
       "      <td>5</td>\n",
       "      <td>2333</td>\n",
       "      <td>2022-04-13 16:00:52</td>\n",
       "    </tr>\n",
       "    <tr>\n",
       "      <th>257289</th>\n",
       "      <td>164000346</td>\n",
       "      <td>M6724</td>\n",
       "      <td>165000381</td>\n",
       "      <td>동춘역</td>\n",
       "      <td>7331702</td>\n",
       "      <td>신월IC(미정차)</td>\n",
       "      <td>인천73아1702</td>\n",
       "      <td>2</td>\n",
       "      <td>2278</td>\n",
       "      <td>2022-04-13 16:00:54</td>\n",
       "    </tr>\n",
       "  </tbody>\n",
       "</table>\n",
       "</div>"
      ],
      "text/plain": [
       "          bstopId routeNo    routeId bstopNm    busId LATEST_STOP_NAME  \\\n",
       "257287  164000346   M6724  165000381     동춘역  7331702        신월IC(미정차)   \n",
       "257288  113000424   M6724  165000381     합정역  7331706    동춘역(이마트.스퀘어원)   \n",
       "257289  164000346   M6724  165000381     동춘역  7331702        신월IC(미정차)   \n",
       "\n",
       "       Bus_Num_Plate  Rest_Stop_Count  ARRIVALESTIMATETIME  \\\n",
       "257287     인천73아1702                2                 2299   \n",
       "257288     인천73아1706                5                 2333   \n",
       "257289     인천73아1702                2                 2278   \n",
       "\n",
       "                     ThisDT  \n",
       "257287  2022-04-13 16:00:26  \n",
       "257288  2022-04-13 16:00:52  \n",
       "257289  2022-04-13 16:00:54  "
      ]
     },
     "execution_count": 5,
     "metadata": {},
     "output_type": "execute_result"
    }
   ],
   "source": [
    "df.tail(3)"
   ]
  },
  {
   "cell_type": "code",
   "execution_count": 6,
   "id": "79f77ccc",
   "metadata": {},
   "outputs": [
    {
     "data": {
      "text/plain": [
       "257290"
      ]
     },
     "execution_count": 6,
     "metadata": {},
     "output_type": "execute_result"
    }
   ],
   "source": [
    "# 인덱스 유니크값 수 = 전체 데이터 수\n",
    "df.index.nunique()"
   ]
  },
  {
   "cell_type": "code",
   "execution_count": 7,
   "id": "c141d817",
   "metadata": {},
   "outputs": [
    {
     "data": {
      "text/html": [
       "<div>\n",
       "<style scoped>\n",
       "    .dataframe tbody tr th:only-of-type {\n",
       "        vertical-align: middle;\n",
       "    }\n",
       "\n",
       "    .dataframe tbody tr th {\n",
       "        vertical-align: top;\n",
       "    }\n",
       "\n",
       "    .dataframe thead th {\n",
       "        text-align: right;\n",
       "    }\n",
       "</style>\n",
       "<table border=\"1\" class=\"dataframe\">\n",
       "  <thead>\n",
       "    <tr style=\"text-align: right;\">\n",
       "      <th></th>\n",
       "      <th>bstopId</th>\n",
       "      <th>routeId</th>\n",
       "      <th>busId</th>\n",
       "      <th>Rest_Stop_Count</th>\n",
       "      <th>ARRIVALESTIMATETIME</th>\n",
       "    </tr>\n",
       "  </thead>\n",
       "  <tbody>\n",
       "    <tr>\n",
       "      <th>count</th>\n",
       "      <td>2.572900e+05</td>\n",
       "      <td>257290.0</td>\n",
       "      <td>2.572900e+05</td>\n",
       "      <td>257290.000000</td>\n",
       "      <td>257290.000000</td>\n",
       "    </tr>\n",
       "    <tr>\n",
       "      <th>mean</th>\n",
       "      <td>1.384341e+08</td>\n",
       "      <td>165000381.0</td>\n",
       "      <td>7.331693e+06</td>\n",
       "      <td>3.908970</td>\n",
       "      <td>1514.213996</td>\n",
       "    </tr>\n",
       "    <tr>\n",
       "      <th>std</th>\n",
       "      <td>2.549988e+07</td>\n",
       "      <td>0.0</td>\n",
       "      <td>6.395247e+01</td>\n",
       "      <td>2.317859</td>\n",
       "      <td>1041.779962</td>\n",
       "    </tr>\n",
       "    <tr>\n",
       "      <th>min</th>\n",
       "      <td>1.130004e+08</td>\n",
       "      <td>165000381.0</td>\n",
       "      <td>7.331348e+06</td>\n",
       "      <td>1.000000</td>\n",
       "      <td>18.000000</td>\n",
       "    </tr>\n",
       "    <tr>\n",
       "      <th>25%</th>\n",
       "      <td>1.130004e+08</td>\n",
       "      <td>165000381.0</td>\n",
       "      <td>7.331703e+06</td>\n",
       "      <td>2.000000</td>\n",
       "      <td>664.000000</td>\n",
       "    </tr>\n",
       "    <tr>\n",
       "      <th>50%</th>\n",
       "      <td>1.130004e+08</td>\n",
       "      <td>165000381.0</td>\n",
       "      <td>7.331705e+06</td>\n",
       "      <td>4.000000</td>\n",
       "      <td>1289.000000</td>\n",
       "    </tr>\n",
       "    <tr>\n",
       "      <th>75%</th>\n",
       "      <td>1.640003e+08</td>\n",
       "      <td>165000381.0</td>\n",
       "      <td>7.331707e+06</td>\n",
       "      <td>5.000000</td>\n",
       "      <td>2233.000000</td>\n",
       "    </tr>\n",
       "    <tr>\n",
       "      <th>max</th>\n",
       "      <td>1.640003e+08</td>\n",
       "      <td>165000381.0</td>\n",
       "      <td>7.331708e+06</td>\n",
       "      <td>11.000000</td>\n",
       "      <td>5863.000000</td>\n",
       "    </tr>\n",
       "  </tbody>\n",
       "</table>\n",
       "</div>"
      ],
      "text/plain": [
       "            bstopId      routeId         busId  Rest_Stop_Count  \\\n",
       "count  2.572900e+05     257290.0  2.572900e+05    257290.000000   \n",
       "mean   1.384341e+08  165000381.0  7.331693e+06         3.908970   \n",
       "std    2.549988e+07          0.0  6.395247e+01         2.317859   \n",
       "min    1.130004e+08  165000381.0  7.331348e+06         1.000000   \n",
       "25%    1.130004e+08  165000381.0  7.331703e+06         2.000000   \n",
       "50%    1.130004e+08  165000381.0  7.331705e+06         4.000000   \n",
       "75%    1.640003e+08  165000381.0  7.331707e+06         5.000000   \n",
       "max    1.640003e+08  165000381.0  7.331708e+06        11.000000   \n",
       "\n",
       "       ARRIVALESTIMATETIME  \n",
       "count        257290.000000  \n",
       "mean           1514.213996  \n",
       "std            1041.779962  \n",
       "min              18.000000  \n",
       "25%             664.000000  \n",
       "50%            1289.000000  \n",
       "75%            2233.000000  \n",
       "max            5863.000000  "
      ]
     },
     "execution_count": 7,
     "metadata": {},
     "output_type": "execute_result"
    }
   ],
   "source": [
    "# 기본 통계량\n",
    "df.describe()"
   ]
  },
  {
   "cell_type": "code",
   "execution_count": 8,
   "id": "8cf9718e",
   "metadata": {},
   "outputs": [
    {
     "name": "stdout",
     "output_type": "stream",
     "text": [
      "<class 'pandas.core.frame.DataFrame'>\n",
      "RangeIndex: 257290 entries, 0 to 257289\n",
      "Data columns (total 10 columns):\n",
      " #   Column               Non-Null Count   Dtype \n",
      "---  ------               --------------   ----- \n",
      " 0   bstopId              257290 non-null  int64 \n",
      " 1   routeNo              257290 non-null  object\n",
      " 2   routeId              257290 non-null  int64 \n",
      " 3   bstopNm              257290 non-null  object\n",
      " 4   busId                257290 non-null  int64 \n",
      " 5   LATEST_STOP_NAME     257290 non-null  object\n",
      " 6   Bus_Num_Plate        257290 non-null  object\n",
      " 7   Rest_Stop_Count      257290 non-null  int64 \n",
      " 8   ARRIVALESTIMATETIME  257290 non-null  int64 \n",
      " 9   ThisDT               257290 non-null  object\n",
      "dtypes: int64(5), object(5)\n",
      "memory usage: 19.6+ MB\n"
     ]
    }
   ],
   "source": [
    "# 데이터 타입 조회\n",
    "df.info()"
   ]
  },
  {
   "cell_type": "code",
   "execution_count": 10,
   "id": "ed16d52e",
   "metadata": {
    "scrolled": true
   },
   "outputs": [
    {
     "data": {
      "text/plain": [
       "bstopId                0\n",
       "routeNo                0\n",
       "routeId                0\n",
       "bstopNm                0\n",
       "busId                  0\n",
       "LATEST_STOP_NAME       0\n",
       "Bus_Num_Plate          0\n",
       "Rest_Stop_Count        0\n",
       "ARRIVALESTIMATETIME    0\n",
       "ThisDT                 0\n",
       "dtype: int64"
      ]
     },
     "execution_count": 10,
     "metadata": {},
     "output_type": "execute_result"
    }
   ],
   "source": [
    "# 결측치 조회\n",
    "df.isnull().sum()\n",
    "\n",
    "# 결측치 제거\n",
    "# df.dropna(inplace=True)"
   ]
  },
  {
   "cell_type": "code",
   "execution_count": 9,
   "id": "25b3948f",
   "metadata": {},
   "outputs": [],
   "source": [
    "# 데이터 ThisDT 변수 datatime 타입으로 변환\n",
    "df['ThisDT'] =  pd.to_datetime(df['ThisDT'])\n",
    "\n",
    "# ThisDT 변수 인덱스로 변환\n",
    "# df = df.set_index('ThisDT')"
   ]
  },
  {
   "cell_type": "code",
   "execution_count": 12,
   "id": "6aa267b0",
   "metadata": {},
   "outputs": [
    {
     "name": "stdout",
     "output_type": "stream",
     "text": [
      "<class 'pandas.core.frame.DataFrame'>\n",
      "RangeIndex: 257290 entries, 0 to 257289\n",
      "Data columns (total 10 columns):\n",
      " #   Column               Non-Null Count   Dtype         \n",
      "---  ------               --------------   -----         \n",
      " 0   bstopId              257290 non-null  int64         \n",
      " 1   routeNo              257290 non-null  object        \n",
      " 2   routeId              257290 non-null  int64         \n",
      " 3   bstopNm              257290 non-null  object        \n",
      " 4   busId                257290 non-null  int64         \n",
      " 5   LATEST_STOP_NAME     257290 non-null  object        \n",
      " 6   Bus_Num_Plate        257290 non-null  object        \n",
      " 7   Rest_Stop_Count      257290 non-null  int64         \n",
      " 8   ARRIVALESTIMATETIME  257290 non-null  int64         \n",
      " 9   ThisDT               257290 non-null  datetime64[ns]\n",
      "dtypes: datetime64[ns](1), int64(5), object(4)\n",
      "memory usage: 19.6+ MB\n"
     ]
    }
   ],
   "source": [
    "df.info()"
   ]
  },
  {
   "cell_type": "markdown",
   "id": "97cd2928",
   "metadata": {},
   "source": [
    "# 불필요 데이터 제거"
   ]
  },
  {
   "cell_type": "code",
   "execution_count": 13,
   "id": "af550393",
   "metadata": {},
   "outputs": [
    {
     "data": {
      "text/plain": [
       "bstopId                     4\n",
       "routeNo                     1\n",
       "routeId                     1\n",
       "bstopNm                     3\n",
       "busId                       9\n",
       "LATEST_STOP_NAME           18\n",
       "Bus_Num_Plate               9\n",
       "Rest_Stop_Count            11\n",
       "ARRIVALESTIMATETIME      4745\n",
       "ThisDT                 257290\n",
       "dtype: int64"
      ]
     },
     "execution_count": 13,
     "metadata": {},
     "output_type": "execute_result"
    }
   ],
   "source": [
    "# 고유값 확인\n",
    "df.nunique()"
   ]
  },
  {
   "cell_type": "code",
   "execution_count": 14,
   "id": "4551ff7d",
   "metadata": {},
   "outputs": [],
   "source": [
    "# 고유값이 1인 변수 제거 > 분석에 무의미\n",
    "# bstopNm 제거 > bstopId 와 의미 중복\n",
    "df.drop(columns=['routeNo', 'routeId', 'bstopNm', 'LATEST_STOP_NAME', 'Bus_Num_Plate'], inplace=True)"
   ]
  },
  {
   "cell_type": "markdown",
   "id": "d70ac3d7",
   "metadata": {},
   "source": [
    "# 라벨링"
   ]
  },
  {
   "cell_type": "code",
   "execution_count": 15,
   "id": "7e62baf9",
   "metadata": {},
   "outputs": [],
   "source": [
    "# stopId 변수 라벨링\n",
    "bstopId_list = df.bstopId.unique().tolist()\n",
    "df.insert(1,'bstopId_rabel',df.bstopId.map(lambda x: bstopId_list.index(x)))\n",
    "\n",
    "# stopId 변수 라벨링\n",
    "busId_list = df.busId.unique().tolist()\n",
    "df.insert(3,'busId_rabel',df.busId.map(lambda x: busId_list.index(x)))\n",
    "\n",
    "df.drop(columns=['bstopId', 'busId'], inplace=True)"
   ]
  },
  {
   "cell_type": "markdown",
   "id": "a27aea2b",
   "metadata": {},
   "source": [
    "# 날짜 데이터"
   ]
  },
  {
   "cell_type": "code",
   "execution_count": 16,
   "id": "19df3588",
   "metadata": {},
   "outputs": [],
   "source": [
    "# 날짜 변수 생성\n",
    "# df['year'] = df['ThisDT'].dt.year\n",
    "df['month'] = df['ThisDT'].dt.month\n",
    "df['day'] = df['ThisDT'].dt.day\n",
    "df['hour'] = df['ThisDT'].dt.hour\n",
    "df['minute'] = df['ThisDT'].dt.minute\n",
    "df['second'] = df['ThisDT'].dt.second\n",
    "\n",
    "# 요일 생성\n",
    "df['weekno'] = df['ThisDT'].dt.weekday\n",
    "# 평일 주말 구분\n",
    "df['weekday'] = 0\n",
    "# 평일은 0\n",
    "cond = (df['weekno'] < 5)\n",
    "df.loc[cond, 'weekday'] = 0\n",
    "# 주말은 1\n",
    "cond = (df['weekno'] >= 5)\n",
    "df.loc[cond, 'weekday'] = 1\n",
    "\n",
    "df.drop(columns = ['weekno'], inplace=True)"
   ]
  },
  {
   "cell_type": "markdown",
   "id": "5f14ca36",
   "metadata": {},
   "source": [
    "# 테스트 데이터 생성"
   ]
  },
  {
   "cell_type": "code",
   "execution_count": 17,
   "id": "4ff92124",
   "metadata": {},
   "outputs": [],
   "source": [
    "# 학습과 테스트 데이터 분리\n",
    "# 4월 1일 전 후로 생성\n",
    "df_train = df.query('ThisDT <= \"2022-04-01\"').copy()\n",
    "df_test = df.query('ThisDT > \"2022-04-01\"').copy()"
   ]
  },
  {
   "cell_type": "code",
   "execution_count": 18,
   "id": "e0ddc8b4",
   "metadata": {},
   "outputs": [],
   "source": [
    "# datetime 날짜 제거 > 모델 학습에 datetime 형식 지원 안 함\n",
    "df_train.drop(columns = ['ThisDT'], inplace=True)\n",
    "df_test.drop(columns = ['ThisDT'], inplace=True)"
   ]
  },
  {
   "cell_type": "code",
   "execution_count": 19,
   "id": "a6be608a",
   "metadata": {},
   "outputs": [],
   "source": [
    "# x, y 분리\n",
    "df_train_y = df_train.loc[:,'ARRIVALESTIMATETIME']\n",
    "df_train_x = df_train.drop('ARRIVALESTIMATETIME', axis=1)\n",
    "df_test_y = df_test.loc[:,'ARRIVALESTIMATETIME']\n",
    "df_test_x = df_test.drop('ARRIVALESTIMATETIME', axis=1)\n",
    "# 나중에 예측값과 비교하기 위해 test 데이터 복제본 저장\n",
    "df_test_orig = df_test.loc[:, ['ARRIVALESTIMATETIME']]"
   ]
  },
  {
   "cell_type": "markdown",
   "id": "3123442a",
   "metadata": {},
   "source": [
    "# 회귀 모델 학습"
   ]
  },
  {
   "cell_type": "code",
   "execution_count": 21,
   "id": "7849e266",
   "metadata": {
    "scrolled": false
   },
   "outputs": [
    {
     "data": {
      "text/plain": [
       "<AxesSubplot:title={'center':'Feature importance'}, xlabel='F score', ylabel='Features'>"
      ]
     },
     "execution_count": 21,
     "metadata": {},
     "output_type": "execute_result"
    },
    {
     "data": {
      "image/png": "[encoded data removed]",
      "text/plain": [
       "<Figure size 432x288 with 1 Axes>"
      ]
     },
     "metadata": {
      "needs_background": "light"
     },
     "output_type": "display_data"
    }
   ],
   "source": [
    "XG_model = xgb.XGBRegressor(n_estimators=1000, learning_rate=0.01)\n",
    "XG_model.fit(df_train_x, df_train_y, eval_set=[(df_test_x, df_test_y)], early_stopping_rounds=50,verbose=False)\n",
    "\n",
    "# 주요하게 적용하는 변수를 판단\n",
    "plot_importance(XG_model, height=0.9)\n",
    "# 버스 번호, 최근 정차 정류장은 학습에 영향이 적음"
   ]
  },
  {
   "cell_type": "code",
   "execution_count": 24,
   "id": "5ec97e22",
   "metadata": {},
   "outputs": [
    {
     "name": "stdout",
     "output_type": "stream",
     "text": [
      "<class 'pandas.core.frame.DataFrame'>\n",
      "RangeIndex: 257290 entries, 0 to 257289\n",
      "Data columns (total 11 columns):\n",
      " #   Column               Non-Null Count   Dtype         \n",
      "---  ------               --------------   -----         \n",
      " 0   bstopId_rabel        257290 non-null  int64         \n",
      " 1   busId_rabel          257290 non-null  int64         \n",
      " 2   Rest_Stop_Count      257290 non-null  int64         \n",
      " 3   ARRIVALESTIMATETIME  257290 non-null  int64         \n",
      " 4   ThisDT               257290 non-null  datetime64[ns]\n",
      " 5   month                257290 non-null  int64         \n",
      " 6   day                  257290 non-null  int64         \n",
      " 7   hour                 257290 non-null  int64         \n",
      " 8   minute               257290 non-null  int64         \n",
      " 9   second               257290 non-null  int64         \n",
      " 10  weekday              257290 non-null  int64         \n",
      "dtypes: datetime64[ns](1), int64(10)\n",
      "memory usage: 21.6 MB\n"
     ]
    }
   ],
   "source": [
    "df.info()"
   ]
  },
  {
   "cell_type": "code",
   "execution_count": 26,
   "id": "14a4666d",
   "metadata": {},
   "outputs": [
    {
     "data": {
      "text/plain": [
       "Index(['bstopId_rabel', 'busId_rabel', 'Rest_Stop_Count', 'month', 'day',\n",
       "       'hour', 'minute', 'second', 'weekday'],\n",
       "      dtype='object')"
      ]
     },
     "execution_count": 26,
     "metadata": {},
     "output_type": "execute_result"
    }
   ],
   "source": [
    "df_train_x.columns"
   ]
  },
  {
   "cell_type": "code",
   "execution_count": 27,
   "id": "57b6624f",
   "metadata": {},
   "outputs": [
    {
     "name": "stdout",
     "output_type": "stream",
     "text": [
      "p-value = 0.000\n",
      "p-value = 0.000\n",
      "p-value = 0.000\n",
      "p-value = 0.000\n",
      "p-value = 0.000\n",
      "p-value = 0.000\n",
      "p-value = 0.000\n",
      "p-value = 0.000\n",
      "p-value = 0.000\n"
     ]
    },
    {
     "ename": "KeyError",
     "evalue": "'풍속'",
     "output_type": "error",
     "traceback": [
      "\u001b[1;31m---------------------------------------------------------------------------\u001b[0m",
      "\u001b[1;31mKeyError\u001b[0m                                  Traceback (most recent call last)",
      "\u001b[1;32m~\\anaconda3\\lib\\site-packages\\pandas\\core\\indexes\\base.py\u001b[0m in \u001b[0;36mget_loc\u001b[1;34m(self, key, method, tolerance)\u001b[0m\n\u001b[0;32m   3360\u001b[0m             \u001b[1;32mtry\u001b[0m\u001b[1;33m:\u001b[0m\u001b[1;33m\u001b[0m\u001b[1;33m\u001b[0m\u001b[0m\n\u001b[1;32m-> 3361\u001b[1;33m                 \u001b[1;32mreturn\u001b[0m \u001b[0mself\u001b[0m\u001b[1;33m.\u001b[0m\u001b[0m_engine\u001b[0m\u001b[1;33m.\u001b[0m\u001b[0mget_loc\u001b[0m\u001b[1;33m(\u001b[0m\u001b[0mcasted_key\u001b[0m\u001b[1;33m)\u001b[0m\u001b[1;33m\u001b[0m\u001b[1;33m\u001b[0m\u001b[0m\n\u001b[0m\u001b[0;32m   3362\u001b[0m             \u001b[1;32mexcept\u001b[0m \u001b[0mKeyError\u001b[0m \u001b[1;32mas\u001b[0m \u001b[0merr\u001b[0m\u001b[1;33m:\u001b[0m\u001b[1;33m\u001b[0m\u001b[1;33m\u001b[0m\u001b[0m\n",
      "\u001b[1;32m~\\anaconda3\\lib\\site-packages\\pandas\\_libs\\index.pyx\u001b[0m in \u001b[0;36mpandas._libs.index.IndexEngine.get_loc\u001b[1;34m()\u001b[0m\n",
      "\u001b[1;32m~\\anaconda3\\lib\\site-packages\\pandas\\_libs\\index.pyx\u001b[0m in \u001b[0;36mpandas._libs.index.IndexEngine.get_loc\u001b[1;34m()\u001b[0m\n",
      "\u001b[1;32mpandas\\_libs\\hashtable_class_helper.pxi\u001b[0m in \u001b[0;36mpandas._libs.hashtable.PyObjectHashTable.get_item\u001b[1;34m()\u001b[0m\n",
      "\u001b[1;32mpandas\\_libs\\hashtable_class_helper.pxi\u001b[0m in \u001b[0;36mpandas._libs.hashtable.PyObjectHashTable.get_item\u001b[1;34m()\u001b[0m\n",
      "\u001b[1;31mKeyError\u001b[0m: '풍속'",
      "\nThe above exception was the direct cause of the following exception:\n",
      "\u001b[1;31mKeyError\u001b[0m                                  Traceback (most recent call last)",
      "\u001b[1;32m~\\AppData\\Local\\Temp/ipykernel_22124/1502730989.py\u001b[0m in \u001b[0;36m<module>\u001b[1;34m\u001b[0m\n\u001b[0;32m     17\u001b[0m \u001b[1;33m\u001b[0m\u001b[0m\n\u001b[0;32m     18\u001b[0m \u001b[1;31m# 정규분포를 따르지 않는다.\u001b[0m\u001b[1;33m\u001b[0m\u001b[1;33m\u001b[0m\u001b[0m\n\u001b[1;32m---> 19\u001b[1;33m \u001b[0mshapiro\u001b[0m\u001b[1;33m(\u001b[0m\u001b[0mnormal_test\u001b[0m\u001b[1;33m[\u001b[0m\u001b[1;34m'풍속'\u001b[0m\u001b[1;33m]\u001b[0m\u001b[1;33m)\u001b[0m\u001b[1;33m\u001b[0m\u001b[1;33m\u001b[0m\u001b[0m\n\u001b[0m",
      "\u001b[1;32m~\\anaconda3\\lib\\site-packages\\pandas\\core\\frame.py\u001b[0m in \u001b[0;36m__getitem__\u001b[1;34m(self, key)\u001b[0m\n\u001b[0;32m   3456\u001b[0m             \u001b[1;32mif\u001b[0m \u001b[0mself\u001b[0m\u001b[1;33m.\u001b[0m\u001b[0mcolumns\u001b[0m\u001b[1;33m.\u001b[0m\u001b[0mnlevels\u001b[0m \u001b[1;33m>\u001b[0m \u001b[1;36m1\u001b[0m\u001b[1;33m:\u001b[0m\u001b[1;33m\u001b[0m\u001b[1;33m\u001b[0m\u001b[0m\n\u001b[0;32m   3457\u001b[0m                 \u001b[1;32mreturn\u001b[0m \u001b[0mself\u001b[0m\u001b[1;33m.\u001b[0m\u001b[0m_getitem_multilevel\u001b[0m\u001b[1;33m(\u001b[0m\u001b[0mkey\u001b[0m\u001b[1;33m)\u001b[0m\u001b[1;33m\u001b[0m\u001b[1;33m\u001b[0m\u001b[0m\n\u001b[1;32m-> 3458\u001b[1;33m             \u001b[0mindexer\u001b[0m \u001b[1;33m=\u001b[0m \u001b[0mself\u001b[0m\u001b[1;33m.\u001b[0m\u001b[0mcolumns\u001b[0m\u001b[1;33m.\u001b[0m\u001b[0mget_loc\u001b[0m\u001b[1;33m(\u001b[0m\u001b[0mkey\u001b[0m\u001b[1;33m)\u001b[0m\u001b[1;33m\u001b[0m\u001b[1;33m\u001b[0m\u001b[0m\n\u001b[0m\u001b[0;32m   3459\u001b[0m             \u001b[1;32mif\u001b[0m \u001b[0mis_integer\u001b[0m\u001b[1;33m(\u001b[0m\u001b[0mindexer\u001b[0m\u001b[1;33m)\u001b[0m\u001b[1;33m:\u001b[0m\u001b[1;33m\u001b[0m\u001b[1;33m\u001b[0m\u001b[0m\n\u001b[0;32m   3460\u001b[0m                 \u001b[0mindexer\u001b[0m \u001b[1;33m=\u001b[0m \u001b[1;33m[\u001b[0m\u001b[0mindexer\u001b[0m\u001b[1;33m]\u001b[0m\u001b[1;33m\u001b[0m\u001b[1;33m\u001b[0m\u001b[0m\n",
      "\u001b[1;32m~\\anaconda3\\lib\\site-packages\\pandas\\core\\indexes\\base.py\u001b[0m in \u001b[0;36mget_loc\u001b[1;34m(self, key, method, tolerance)\u001b[0m\n\u001b[0;32m   3361\u001b[0m                 \u001b[1;32mreturn\u001b[0m \u001b[0mself\u001b[0m\u001b[1;33m.\u001b[0m\u001b[0m_engine\u001b[0m\u001b[1;33m.\u001b[0m\u001b[0mget_loc\u001b[0m\u001b[1;33m(\u001b[0m\u001b[0mcasted_key\u001b[0m\u001b[1;33m)\u001b[0m\u001b[1;33m\u001b[0m\u001b[1;33m\u001b[0m\u001b[0m\n\u001b[0;32m   3362\u001b[0m             \u001b[1;32mexcept\u001b[0m \u001b[0mKeyError\u001b[0m \u001b[1;32mas\u001b[0m \u001b[0merr\u001b[0m\u001b[1;33m:\u001b[0m\u001b[1;33m\u001b[0m\u001b[1;33m\u001b[0m\u001b[0m\n\u001b[1;32m-> 3363\u001b[1;33m                 \u001b[1;32mraise\u001b[0m \u001b[0mKeyError\u001b[0m\u001b[1;33m(\u001b[0m\u001b[0mkey\u001b[0m\u001b[1;33m)\u001b[0m \u001b[1;32mfrom\u001b[0m \u001b[0merr\u001b[0m\u001b[1;33m\u001b[0m\u001b[1;33m\u001b[0m\u001b[0m\n\u001b[0m\u001b[0;32m   3364\u001b[0m \u001b[1;33m\u001b[0m\u001b[0m\n\u001b[0;32m   3365\u001b[0m         \u001b[1;32mif\u001b[0m \u001b[0mis_scalar\u001b[0m\u001b[1;33m(\u001b[0m\u001b[0mkey\u001b[0m\u001b[1;33m)\u001b[0m \u001b[1;32mand\u001b[0m \u001b[0misna\u001b[0m\u001b[1;33m(\u001b[0m\u001b[0mkey\u001b[0m\u001b[1;33m)\u001b[0m \u001b[1;32mand\u001b[0m \u001b[1;32mnot\u001b[0m \u001b[0mself\u001b[0m\u001b[1;33m.\u001b[0m\u001b[0mhasnans\u001b[0m\u001b[1;33m:\u001b[0m\u001b[1;33m\u001b[0m\u001b[1;33m\u001b[0m\u001b[0m\n",
      "\u001b[1;31mKeyError\u001b[0m: '풍속'"
     ]
    }
   ],
   "source": [
    "from scipy.stats import shapiro\n",
    "\n",
    "normal_test = df.drop(columns=['ARRIVALESTIMATETIME', 'ThisDT'])\n",
    "\n",
    "print('p-value = {:.3f}'.format(shapiro(normal_test['bstopId_rabel'])[1]))\n",
    "print('p-value = {:.3f}'.format(shapiro(normal_test['busId_rabel'])[1]))\n",
    "print('p-value = {:.3f}'.format(shapiro(normal_test['Rest_Stop_Count'])[1]))\n",
    "print('p-value = {:.3f}'.format(shapiro(normal_test['month'])[1]))\n",
    "print('p-value = {:.3f}'.format(shapiro(normal_test['day'])[1]))\n",
    "print('p-value = {:.3f}'.format(shapiro(normal_test['hour'])[1]))\n",
    "print('p-value = {:.3f}'.format(shapiro(normal_test['minute'])[1]))\n",
    "print('p-value = {:.3f}'.format(shapiro(normal_test['second'])[1]))\n",
    "print('p-value = {:.3f}'.format(shapiro(normal_test['weekday'])[1]))\n",
    "\n",
    "# 귀무가설 H0: 표본의 모집단이 정규분포를 이루고 있다.\n",
    "# 대립가설 H1: 표본의 모집단이 정규분포를 이루고 있지않다.\n",
    "\n",
    "# 정규분포를 따르지 않는다.\n",
    "shapiro(normal_test['풍속'])"
   ]
  },
  {
   "cell_type": "markdown",
   "id": "9459b94c",
   "metadata": {},
   "source": [
    "# 모델 유의성 검정"
   ]
  },
  {
   "cell_type": "code",
   "execution_count": 22,
   "id": "bdc49c72",
   "metadata": {
    "scrolled": true
   },
   "outputs": [
    {
     "name": "stdout",
     "output_type": "stream",
     "text": [
      "R2 score(결정계수) = 0.816\n",
      "explained_variance_score(설명분산점수) : 0.772\n",
      "MSE : 201257.047 , RMSE : 448.617\n"
     ]
    }
   ],
   "source": [
    "from sklearn.metrics import explained_variance_score\n",
    "from sklearn.metrics import r2_score\n",
    "from sklearn.metrics import mean_squared_error\n",
    "\n",
    "predictions = XG_model.predict(df_test_x)\n",
    "predictions\n",
    "\n",
    "r_sq = XG_model.score(df_test_x, df_test_y)\n",
    "mse = mean_squared_error(df_test_y, predictions)\n",
    "rmse = np.sqrt(mse)\n",
    "r2_ = r2_score(df_test_y, predictions)\n",
    "\n",
    "\n",
    "print('R2 score(결정계수) = {:.3f}'.format(r_sq))\n",
    "print('explained_variance_score(설명분산점수) : {0:.3f}'.format(explained_variance_score(predictions,df_test_y)))\n",
    "print('MSE : {0:.3f} , RMSE : {1:.3F}'.format(mse , rmse))"
   ]
  },
  {
   "cell_type": "code",
   "execution_count": 22,
   "id": "fa94ee4c",
   "metadata": {},
   "outputs": [
    {
     "data": {
      "text/html": [
       "<div>\n",
       "<style scoped>\n",
       "    .dataframe tbody tr th:only-of-type {\n",
       "        vertical-align: middle;\n",
       "    }\n",
       "\n",
       "    .dataframe tbody tr th {\n",
       "        vertical-align: top;\n",
       "    }\n",
       "\n",
       "    .dataframe thead th {\n",
       "        text-align: right;\n",
       "    }\n",
       "</style>\n",
       "<table border=\"1\" class=\"dataframe\">\n",
       "  <thead>\n",
       "    <tr style=\"text-align: right;\">\n",
       "      <th></th>\n",
       "      <th>bstopId_rabel</th>\n",
       "      <th>busId_rabel</th>\n",
       "      <th>Rest_Stop_Count</th>\n",
       "      <th>month</th>\n",
       "      <th>day</th>\n",
       "      <th>hour</th>\n",
       "      <th>minute</th>\n",
       "      <th>second</th>\n",
       "      <th>weekday</th>\n",
       "    </tr>\n",
       "  </thead>\n",
       "  <tbody>\n",
       "    <tr>\n",
       "      <th>183056</th>\n",
       "      <td>0</td>\n",
       "      <td>7</td>\n",
       "      <td>6</td>\n",
       "      <td>4</td>\n",
       "      <td>1</td>\n",
       "      <td>10</td>\n",
       "      <td>11</td>\n",
       "      <td>55</td>\n",
       "      <td>0</td>\n",
       "    </tr>\n",
       "  </tbody>\n",
       "</table>\n",
       "</div>"
      ],
      "text/plain": [
       "        bstopId_rabel  busId_rabel  Rest_Stop_Count  month  day  hour  minute  \\\n",
       "183056              0            7                6      4    1    10      11   \n",
       "\n",
       "        second  weekday  \n",
       "183056      55        0  "
      ]
     },
     "execution_count": 22,
     "metadata": {},
     "output_type": "execute_result"
    }
   ],
   "source": [
    "df_test_x.head(1)"
   ]
  },
  {
   "cell_type": "code",
   "execution_count": 23,
   "id": "0f7c2231",
   "metadata": {
    "scrolled": true
   },
   "outputs": [
    {
     "name": "stdout",
     "output_type": "stream",
     "text": [
      "예측값: [2101.6382 2101.6382]\n"
     ]
    },
    {
     "data": {
      "text/html": [
       "<div>\n",
       "<style scoped>\n",
       "    .dataframe tbody tr th:only-of-type {\n",
       "        vertical-align: middle;\n",
       "    }\n",
       "\n",
       "    .dataframe tbody tr th {\n",
       "        vertical-align: top;\n",
       "    }\n",
       "\n",
       "    .dataframe thead th {\n",
       "        text-align: right;\n",
       "    }\n",
       "</style>\n",
       "<table border=\"1\" class=\"dataframe\">\n",
       "  <thead>\n",
       "    <tr style=\"text-align: right;\">\n",
       "      <th></th>\n",
       "      <th>bstopId_rabel</th>\n",
       "      <th>busId_rabel</th>\n",
       "      <th>Rest_Stop_Count</th>\n",
       "      <th>month</th>\n",
       "      <th>day</th>\n",
       "      <th>hour</th>\n",
       "      <th>minute</th>\n",
       "      <th>second</th>\n",
       "      <th>weekday</th>\n",
       "    </tr>\n",
       "  </thead>\n",
       "  <tbody>\n",
       "    <tr>\n",
       "      <th>202874</th>\n",
       "      <td>0</td>\n",
       "      <td>2</td>\n",
       "      <td>5</td>\n",
       "      <td>4</td>\n",
       "      <td>4</td>\n",
       "      <td>16</td>\n",
       "      <td>42</td>\n",
       "      <td>14</td>\n",
       "      <td>0</td>\n",
       "    </tr>\n",
       "    <tr>\n",
       "      <th>202875</th>\n",
       "      <td>0</td>\n",
       "      <td>2</td>\n",
       "      <td>5</td>\n",
       "      <td>4</td>\n",
       "      <td>4</td>\n",
       "      <td>16</td>\n",
       "      <td>42</td>\n",
       "      <td>42</td>\n",
       "      <td>0</td>\n",
       "    </tr>\n",
       "  </tbody>\n",
       "</table>\n",
       "</div>"
      ],
      "text/plain": [
       "        bstopId_rabel  busId_rabel  Rest_Stop_Count  month  day  hour  minute  \\\n",
       "202874              0            2                5      4    4    16      42   \n",
       "202875              0            2                5      4    4    16      42   \n",
       "\n",
       "        second  weekday  \n",
       "202874      14        0  \n",
       "202875      42        0  "
      ]
     },
     "execution_count": 23,
     "metadata": {},
     "output_type": "execute_result"
    }
   ],
   "source": [
    "# 샘플 데이터 생성 함수\n",
    "\n",
    "# 샘플 데이터 생성    서울역 방면 / 합정역 승차 / 2022년 2월 25일 16시 42분 7초 기준 예측값\n",
    "df1 = df_test_x[(df_test_x['bstopId_rabel']==0) & (df_test_x['month'] == 4) \n",
    "                & (df_test_x['day'] == 4) & (df_test_x['hour'] == 16) & (df_test_x['minute'] == 42)].copy()\n",
    "# df1['day'] = 25\n",
    "\n",
    "# 모델에 적용\n",
    "xgboost = XG_model.predict(df1)\n",
    "print(\"예측값:\", xgboost)\n",
    "df1"
   ]
  },
  {
   "cell_type": "markdown",
   "id": "4cae2e51",
   "metadata": {},
   "source": [
    "# 결과 시각화"
   ]
  },
  {
   "cell_type": "code",
   "execution_count": 35,
   "id": "9f555146",
   "metadata": {},
   "outputs": [
    {
     "data": {
      "text/plain": [
       "[113000424, 164000346, 113000412, 164000070]"
      ]
     },
     "execution_count": 35,
     "metadata": {},
     "output_type": "execute_result"
    }
   ],
   "source": [
    "# bstopId\n",
    "# 113000412\t합정역\t연세대(인천) 방면\n",
    "# 113000424\t합정역\t서울역 방면\n",
    "# 164000070\t동춘역\t서울역 방면\n",
    "# 164000346\t동춘역\t연세대(인천) 방면\n",
    "bstopId_list"
   ]
  },
  {
   "cell_type": "code",
   "execution_count": 25,
   "id": "e8732f66",
   "metadata": {
    "scrolled": true
   },
   "outputs": [
    {
     "data": {
      "text/html": [
       "<div>\n",
       "<style scoped>\n",
       "    .dataframe tbody tr th:only-of-type {\n",
       "        vertical-align: middle;\n",
       "    }\n",
       "\n",
       "    .dataframe tbody tr th {\n",
       "        vertical-align: top;\n",
       "    }\n",
       "\n",
       "    .dataframe thead th {\n",
       "        text-align: right;\n",
       "    }\n",
       "</style>\n",
       "<table border=\"1\" class=\"dataframe\">\n",
       "  <thead>\n",
       "    <tr style=\"text-align: right;\">\n",
       "      <th></th>\n",
       "      <th>bstopId_rabel</th>\n",
       "      <th>busId_rabel</th>\n",
       "      <th>Rest_Stop_Count</th>\n",
       "      <th>month</th>\n",
       "      <th>day</th>\n",
       "      <th>hour</th>\n",
       "      <th>minute</th>\n",
       "      <th>second</th>\n",
       "      <th>weekday</th>\n",
       "    </tr>\n",
       "  </thead>\n",
       "  <tbody>\n",
       "    <tr>\n",
       "      <th>198751</th>\n",
       "      <td>0</td>\n",
       "      <td>6</td>\n",
       "      <td>11</td>\n",
       "      <td>4</td>\n",
       "      <td>4</td>\n",
       "      <td>5</td>\n",
       "      <td>0</td>\n",
       "      <td>16</td>\n",
       "      <td>0</td>\n",
       "    </tr>\n",
       "    <tr>\n",
       "      <th>198753</th>\n",
       "      <td>0</td>\n",
       "      <td>6</td>\n",
       "      <td>11</td>\n",
       "      <td>4</td>\n",
       "      <td>4</td>\n",
       "      <td>5</td>\n",
       "      <td>0</td>\n",
       "      <td>46</td>\n",
       "      <td>0</td>\n",
       "    </tr>\n",
       "    <tr>\n",
       "      <th>198755</th>\n",
       "      <td>0</td>\n",
       "      <td>6</td>\n",
       "      <td>11</td>\n",
       "      <td>4</td>\n",
       "      <td>4</td>\n",
       "      <td>5</td>\n",
       "      <td>1</td>\n",
       "      <td>15</td>\n",
       "      <td>0</td>\n",
       "    </tr>\n",
       "    <tr>\n",
       "      <th>198757</th>\n",
       "      <td>0</td>\n",
       "      <td>6</td>\n",
       "      <td>11</td>\n",
       "      <td>4</td>\n",
       "      <td>4</td>\n",
       "      <td>5</td>\n",
       "      <td>1</td>\n",
       "      <td>43</td>\n",
       "      <td>0</td>\n",
       "    </tr>\n",
       "    <tr>\n",
       "      <th>198759</th>\n",
       "      <td>0</td>\n",
       "      <td>6</td>\n",
       "      <td>11</td>\n",
       "      <td>4</td>\n",
       "      <td>4</td>\n",
       "      <td>5</td>\n",
       "      <td>2</td>\n",
       "      <td>12</td>\n",
       "      <td>0</td>\n",
       "    </tr>\n",
       "    <tr>\n",
       "      <th>...</th>\n",
       "      <td>...</td>\n",
       "      <td>...</td>\n",
       "      <td>...</td>\n",
       "      <td>...</td>\n",
       "      <td>...</td>\n",
       "      <td>...</td>\n",
       "      <td>...</td>\n",
       "      <td>...</td>\n",
       "      <td>...</td>\n",
       "    </tr>\n",
       "    <tr>\n",
       "      <th>204902</th>\n",
       "      <td>0</td>\n",
       "      <td>1</td>\n",
       "      <td>3</td>\n",
       "      <td>4</td>\n",
       "      <td>4</td>\n",
       "      <td>23</td>\n",
       "      <td>52</td>\n",
       "      <td>52</td>\n",
       "      <td>0</td>\n",
       "    </tr>\n",
       "    <tr>\n",
       "      <th>204908</th>\n",
       "      <td>0</td>\n",
       "      <td>1</td>\n",
       "      <td>3</td>\n",
       "      <td>4</td>\n",
       "      <td>4</td>\n",
       "      <td>23</td>\n",
       "      <td>54</td>\n",
       "      <td>46</td>\n",
       "      <td>0</td>\n",
       "    </tr>\n",
       "    <tr>\n",
       "      <th>204910</th>\n",
       "      <td>0</td>\n",
       "      <td>1</td>\n",
       "      <td>3</td>\n",
       "      <td>4</td>\n",
       "      <td>4</td>\n",
       "      <td>23</td>\n",
       "      <td>55</td>\n",
       "      <td>14</td>\n",
       "      <td>0</td>\n",
       "    </tr>\n",
       "    <tr>\n",
       "      <th>204913</th>\n",
       "      <td>0</td>\n",
       "      <td>1</td>\n",
       "      <td>3</td>\n",
       "      <td>4</td>\n",
       "      <td>4</td>\n",
       "      <td>23</td>\n",
       "      <td>56</td>\n",
       "      <td>11</td>\n",
       "      <td>0</td>\n",
       "    </tr>\n",
       "    <tr>\n",
       "      <th>204921</th>\n",
       "      <td>0</td>\n",
       "      <td>1</td>\n",
       "      <td>2</td>\n",
       "      <td>4</td>\n",
       "      <td>4</td>\n",
       "      <td>23</td>\n",
       "      <td>58</td>\n",
       "      <td>33</td>\n",
       "      <td>0</td>\n",
       "    </tr>\n",
       "  </tbody>\n",
       "</table>\n",
       "<p>2085 rows × 9 columns</p>\n",
       "</div>"
      ],
      "text/plain": [
       "        bstopId_rabel  busId_rabel  Rest_Stop_Count  month  day  hour  minute  \\\n",
       "198751              0            6               11      4    4     5       0   \n",
       "198753              0            6               11      4    4     5       0   \n",
       "198755              0            6               11      4    4     5       1   \n",
       "198757              0            6               11      4    4     5       1   \n",
       "198759              0            6               11      4    4     5       2   \n",
       "...               ...          ...              ...    ...  ...   ...     ...   \n",
       "204902              0            1                3      4    4    23      52   \n",
       "204908              0            1                3      4    4    23      54   \n",
       "204910              0            1                3      4    4    23      55   \n",
       "204913              0            1                3      4    4    23      56   \n",
       "204921              0            1                2      4    4    23      58   \n",
       "\n",
       "        second  weekday  \n",
       "198751      16        0  \n",
       "198753      46        0  \n",
       "198755      15        0  \n",
       "198757      43        0  \n",
       "198759      12        0  \n",
       "...        ...      ...  \n",
       "204902      52        0  \n",
       "204908      46        0  \n",
       "204910      14        0  \n",
       "204913      11        0  \n",
       "204921      33        0  \n",
       "\n",
       "[2085 rows x 9 columns]"
      ]
     },
     "execution_count": 25,
     "metadata": {},
     "output_type": "execute_result"
    }
   ],
   "source": [
    "df_0404 = df_test_x[(df_test_x['bstopId_rabel']==0) \n",
    "                    & (df_test_x['month'] == 4) & (df_test_x['day'] == 4)].copy()\n",
    "df_0404"
   ]
  },
  {
   "cell_type": "code",
   "execution_count": 43,
   "id": "08827445",
   "metadata": {},
   "outputs": [
    {
     "data": {
      "text/plain": [
       "<matplotlib.legend.Legend at 0x187521b9730>"
      ]
     },
     "execution_count": 43,
     "metadata": {},
     "output_type": "execute_result"
    },
    {
     "data": {
      "image/png": "[encoded data removed]",
      "text/plain": [
       "<Figure size 720x360 with 1 Axes>"
      ]
     },
     "metadata": {},
     "output_type": "display_data"
    }
   ],
   "source": [
    "# 4월 10일 데이터 추출 및 예측값 생성\n",
    "df_0410 = df_test_x[(df_test_x['bstopId_rabel']==0)\n",
    "                    & (df_test_x['month'] == 4) & (df_test_x['day'] == 10)].copy()\n",
    "\n",
    "df_0410_predict = XG_model.predict(df_0410)\n",
    "\n",
    "# 실제 데이터와 비교를 위해서 result 데이터 프레임 생성\n",
    "result=pd.concat([df[(df['bstopId_rabel']==0) & (df['month'] == 4) & (df['day'] == 10)].reset_index()\n",
    "                  , pd.DataFrame(df_0410_predict, columns=['xgboost'])], axis=1, ignore_index=False)\n",
    "result = result.set_index('ThisDT')\n",
    "result = result.loc[:, ['ARRIVALESTIMATETIME', 'xgboost']]\n",
    "\n",
    "\n",
    "# 그래프 생성\n",
    "plt.style.use('ggplot')\n",
    "plt.figure(figsize=(10,5))\n",
    "plt.title(\"예측 결과(4/10)  합정역 > 서울역 방면 방면\\n\", fontsize=20)\n",
    "plt.ylabel('도착 예정 시간(초)', fontsize=12)\n",
    "plt.xlabel('시간', fontsize=12)\n",
    "plt.plot(result, label = ['실제', '예측'])\n",
    "plt.legend(fontsize=10)"
   ]
  },
  {
   "cell_type": "code",
   "execution_count": 44,
   "id": "aee8eef3",
   "metadata": {},
   "outputs": [
    {
     "data": {
      "text/html": [
       "<div>\n",
       "<style scoped>\n",
       "    .dataframe tbody tr th:only-of-type {\n",
       "        vertical-align: middle;\n",
       "    }\n",
       "\n",
       "    .dataframe tbody tr th {\n",
       "        vertical-align: top;\n",
       "    }\n",
       "\n",
       "    .dataframe thead th {\n",
       "        text-align: right;\n",
       "    }\n",
       "</style>\n",
       "<table border=\"1\" class=\"dataframe\">\n",
       "  <thead>\n",
       "    <tr style=\"text-align: right;\">\n",
       "      <th></th>\n",
       "      <th>ARRIVALESTIMATETIME</th>\n",
       "      <th>xgboost</th>\n",
       "    </tr>\n",
       "    <tr>\n",
       "      <th>ThisDT</th>\n",
       "      <th></th>\n",
       "      <th></th>\n",
       "    </tr>\n",
       "  </thead>\n",
       "  <tbody>\n",
       "    <tr>\n",
       "      <th>2022-04-10 00:01:01</th>\n",
       "      <td>279</td>\n",
       "      <td>356.251953</td>\n",
       "    </tr>\n",
       "    <tr>\n",
       "      <th>2022-04-10 00:01:30</th>\n",
       "      <td>279</td>\n",
       "      <td>356.251953</td>\n",
       "    </tr>\n",
       "    <tr>\n",
       "      <th>2022-04-10 00:01:58</th>\n",
       "      <td>226</td>\n",
       "      <td>381.213501</td>\n",
       "    </tr>\n",
       "    <tr>\n",
       "      <th>2022-04-10 00:02:27</th>\n",
       "      <td>202</td>\n",
       "      <td>69.434883</td>\n",
       "    </tr>\n",
       "    <tr>\n",
       "      <th>2022-04-10 00:02:55</th>\n",
       "      <td>177</td>\n",
       "      <td>69.434883</td>\n",
       "    </tr>\n",
       "    <tr>\n",
       "      <th>...</th>\n",
       "      <td>...</td>\n",
       "      <td>...</td>\n",
       "    </tr>\n",
       "    <tr>\n",
       "      <th>2022-04-10 23:57:56</th>\n",
       "      <td>507</td>\n",
       "      <td>399.200073</td>\n",
       "    </tr>\n",
       "    <tr>\n",
       "      <th>2022-04-10 23:58:25</th>\n",
       "      <td>507</td>\n",
       "      <td>378.441132</td>\n",
       "    </tr>\n",
       "    <tr>\n",
       "      <th>2022-04-10 23:58:53</th>\n",
       "      <td>343</td>\n",
       "      <td>378.441132</td>\n",
       "    </tr>\n",
       "    <tr>\n",
       "      <th>2022-04-10 23:59:22</th>\n",
       "      <td>313</td>\n",
       "      <td>378.441132</td>\n",
       "    </tr>\n",
       "    <tr>\n",
       "      <th>2022-04-10 23:59:50</th>\n",
       "      <td>336</td>\n",
       "      <td>378.441132</td>\n",
       "    </tr>\n",
       "  </tbody>\n",
       "</table>\n",
       "<p>2100 rows × 2 columns</p>\n",
       "</div>"
      ],
      "text/plain": [
       "                     ARRIVALESTIMATETIME     xgboost\n",
       "ThisDT                                              \n",
       "2022-04-10 00:01:01                  279  356.251953\n",
       "2022-04-10 00:01:30                  279  356.251953\n",
       "2022-04-10 00:01:58                  226  381.213501\n",
       "2022-04-10 00:02:27                  202   69.434883\n",
       "2022-04-10 00:02:55                  177   69.434883\n",
       "...                                  ...         ...\n",
       "2022-04-10 23:57:56                  507  399.200073\n",
       "2022-04-10 23:58:25                  507  378.441132\n",
       "2022-04-10 23:58:53                  343  378.441132\n",
       "2022-04-10 23:59:22                  313  378.441132\n",
       "2022-04-10 23:59:50                  336  378.441132\n",
       "\n",
       "[2100 rows x 2 columns]"
      ]
     },
     "execution_count": 44,
     "metadata": {},
     "output_type": "execute_result"
    }
   ],
   "source": [
    "result"
   ]
  },
  {
   "cell_type": "code",
   "execution_count": 45,
   "id": "654f99bf",
   "metadata": {},
   "outputs": [
    {
     "data": {
      "text/plain": [
       "<matplotlib.legend.Legend at 0x1875223b4c0>"
      ]
     },
     "execution_count": 45,
     "metadata": {},
     "output_type": "execute_result"
    },
    {
     "data": {
      "image/png": "[encoded data removed]",
      "text/plain": [
       "<Figure size 720x360 with 1 Axes>"
      ]
     },
     "metadata": {},
     "output_type": "display_data"
    }
   ],
   "source": [
    "# 4월 5일 데이터 추출 및 예측값 생성\n",
    "df_0405 = df_test_x[(df_test_x['bstopId_rabel']==0)\n",
    "                    & (df_test_x['month'] == 4) & (df_test_x['day'] == 5)].copy()\n",
    "\n",
    "df_0405_predict = XG_model.predict(df_0405)\n",
    "\n",
    "# 실제 데이터와 비교를 위해서 result 데이터 프레임 생성\n",
    "result=pd.concat([df[(df['bstopId_rabel']==0)& (df['month'] == 4) & (df['day'] == 5)].reset_index()\n",
    "                  , pd.DataFrame(df_0405_predict, columns=['xgboost'])], axis=1, ignore_index=False)\n",
    "result = result.set_index('ThisDT')\n",
    "result = result.loc[:, ['ARRIVALESTIMATETIME', 'xgboost']]\n",
    "\n",
    "\n",
    "\n",
    "# 그래프 생성\n",
    "plt.style.use('ggplot')\n",
    "plt.figure(figsize=(10,5))\n",
    "plt.title(\"예측 결과(4/5)  합정역 > 서울역 방면\\n\", fontsize=20)\n",
    "plt.ylabel('도착 예정 시간(초)', fontsize=12)\n",
    "plt.xlabel('시간', fontsize=12)\n",
    "plt.plot(result, label = ['실제', '예측'])\n",
    "plt.legend(fontsize=10)"
   ]
  },
  {
   "cell_type": "code",
   "execution_count": 47,
   "id": "f4f56e12",
   "metadata": {},
   "outputs": [
    {
     "data": {
      "text/plain": [
       "<matplotlib.legend.Legend at 0x1875235afd0>"
      ]
     },
     "execution_count": 47,
     "metadata": {},
     "output_type": "execute_result"
    },
    {
     "data": {
      "image/png": "[encoded data removed]",
      "text/plain": [
       "<Figure size 720x360 with 1 Axes>"
      ]
     },
     "metadata": {},
     "output_type": "display_data"
    }
   ],
   "source": [
    "# 4월 5일 데이터 추출 및 예측값 생성\n",
    "df_0405 = df_test_x[(df_test_x['bstopId_rabel']==2)\n",
    "                    & (df_test_x['month'] == 4) & (df_test_x['day'] == 5)].copy()\n",
    "\n",
    "df_0405_predict = XG_model.predict(df_0405)\n",
    "\n",
    "# 실제 데이터와 비교를 위해서 result 데이터 프레임 생성\n",
    "result=pd.concat([df[(df['bstopId_rabel']==2)& (df['month'] == 4) & (df['day'] == 5)].reset_index()\n",
    "                  , pd.DataFrame(df_0405_predict, columns=['xgboost'])], axis=1, ignore_index=False)\n",
    "result = result.set_index('ThisDT')\n",
    "result = result.loc[:, ['ARRIVALESTIMATETIME', 'xgboost']]\n",
    "\n",
    "\n",
    "\n",
    "# 그래프 생성\n",
    "plt.style.use('ggplot')\n",
    "plt.figure(figsize=(10,5))\n",
    "plt.title(\"예측 결과(4/5)  합정역 > 연세대(인천) 방면\\n\", fontsize=20)\n",
    "plt.ylabel('도착 예정 시간(초)', fontsize=12)\n",
    "plt.xlabel('시간', fontsize=12)\n",
    "plt.plot(result, label = ['실제', '예측'])\n",
    "plt.legend(fontsize=10)"
   ]
  },
  {
   "cell_type": "markdown",
   "id": "0dd400f4",
   "metadata": {},
   "source": [
    "# 모델 저장"
   ]
  },
  {
   "cell_type": "code",
   "execution_count": 48,
   "id": "24e70532",
   "metadata": {},
   "outputs": [],
   "source": [
    "# 모델 저장\n",
    "XG_model.save_model(\"saved_model/XGBoost.model\")\n",
    "\n",
    "# 모델 불러오기\n",
    "# new_xgb_model = xgb.XGBRegressor() # 모델 초기화\n",
    "# new_xgb_model.load_model(\"Bus_ML.model\") # 모델 불러오기"
   ]
  },
  {
   "cell_type": "markdown",
   "id": "83d00757",
   "metadata": {},
   "source": [
    "# 추가 시각화"
   ]
  },
  {
   "cell_type": "code",
   "execution_count": null,
   "id": "435d4e69",
   "metadata": {},
   "outputs": [],
   "source": [
    "# bstopId\n",
    "# 113000412\t합정역\t연세대(인천) 방면\n",
    "# 113000424\t합정역\t서울역 방면\n",
    "# 164000070\t동춘역\t서울역 방면\n",
    "# 164000346\t동춘역\t연세대(인천) 방면\n",
    "\n",
    "# df.loc[df.bstopId == 113000424, 'bstopId'] = 1\n",
    "# df.loc[df.bstopId == 164000346, 'bstopId'] = 2\n",
    "# df.loc[df.bstopId == 113000412, 'bstopId'] = 3\n",
    "# df.loc[df.bstopId == 164000070, 'bstopId'] = 4"
   ]
  },
  {
   "cell_type": "code",
   "execution_count": null,
   "id": "3eef8a83",
   "metadata": {},
   "outputs": [],
   "source": [
    "# 4월 5일 데이터 추출 및 예측값 생성\n",
    "df_visualization = df_test_x[(df_test_x['bstopId']==3) & (df_test_x['year'] == 2022 ) \n",
    "                    & (df_test_x['month'] == 4) & (df_test_x['day'] == 5)].copy()\n",
    "\n",
    "df_visualization_predict = XG_model.predict(df_visualization)\n",
    "\n",
    "# 실제 데이터와 비교를 위해서 result 데이터 프레임 생성\n",
    "result=pd.concat([df[(df['bstopId']==3) & (df['year'] == 2022 )& (df['month'] == 4) & (df['day'] == 5)].reset_index()\n",
    "                  , pd.DataFrame(df_visualization_predict, columns=['xgboost'])], axis=1, ignore_index=False)\n",
    "result = result.set_index('ThisDT')\n",
    "result = result.loc[:, ['ARRIVALESTIMATETIME', 'xgboost']]\n",
    "\n",
    "\n",
    "\n",
    "# 그래프 생성\n",
    "plt.style.use('ggplot')\n",
    "plt.figure(figsize=(10,5))\n",
    "plt.title(\"4/5 화요일 합정역 / 연세대(인천) 방면 \\n\", fontsize=20)\n",
    "plt.ylabel('도착 예정 시간(초)', fontsize=12)\n",
    "plt.xlabel('시간', fontsize=12)\n",
    "plt.plot(result, label = ['실제', '예측'])\n",
    "plt.legend(fontsize=10)"
   ]
  },
  {
   "cell_type": "code",
   "execution_count": null,
   "id": "7ea68126",
   "metadata": {},
   "outputs": [],
   "source": [
    "# 2월 22일 데이터 추출 및 예측값 생성\n",
    "df_visualization = df_test_x[(df_test_x['bstopId']==4) & (df_test_x['year'] == 2022 ) \n",
    "                    & (df_test_x['month'] == 4) & (df_test_x['day'] == 5)].copy()\n",
    "\n",
    "df_visualization_predict = XG_model.predict(df_visualization)\n",
    "\n",
    "# 실제 데이터와 비교를 위해서 result 데이터 프레임 생성\n",
    "result=pd.concat([df[(df['bstopId']==4) & (df['year'] == 2022 )& (df['month'] == 4) & (df['day'] == 5)].reset_index()\n",
    "                  , pd.DataFrame(df_visualization_predict, columns=['xgboost'])], axis=1, ignore_index=False)\n",
    "result = result.set_index('ThisDT')\n",
    "result = result.loc[:, ['ARRIVALESTIMATETIME', 'xgboost']]\n",
    "\n",
    "\n",
    "\n",
    "# 그래프 생성\n",
    "plt.style.use('ggplot')\n",
    "plt.figure(figsize=(10,5))\n",
    "plt.title(\"4/5 화요일 동춘역 / 서울역 방면 \\n\", fontsize=20)\n",
    "plt.ylabel('도착 예정 시간(초)', fontsize=12)\n",
    "plt.xlabel('시간', fontsize=12)\n",
    "plt.plot(result, label = ['실제', '예측'])\n",
    "plt.legend(fontsize=10)"
   ]
  },
  {
   "cell_type": "code",
   "execution_count": null,
   "id": "2eb8c95b",
   "metadata": {},
   "outputs": [],
   "source": [
    "# 2월 22일 데이터 추출 및 예측값 생성\n",
    "df_visualization = df_test_x[(df_test_x['bstopId']==2) & (df_test_x['year'] == 2022 ) \n",
    "                    & (df_test_x['month'] == 4) & (df_test_x['day'] == 5)].copy()\n",
    "\n",
    "df_visualization_predict = XG_model.predict(df_visualization)\n",
    "\n",
    "# 실제 데이터와 비교를 위해서 result 데이터 프레임 생성\n",
    "result=pd.concat([df[(df['bstopId']==2) & (df['year'] == 2022 )& (df['month'] == 4) & (df['day'] == 5)].reset_index()\n",
    "                  , pd.DataFrame(df_visualization_predict, columns=['xgboost'])], axis=1, ignore_index=False)\n",
    "result = result.set_index('ThisDT')\n",
    "result = result.loc[:, ['ARRIVALESTIMATETIME', 'xgboost']]\n",
    "\n",
    "\n",
    "\n",
    "# 그래프 생성\n",
    "plt.style.use('ggplot')\n",
    "plt.figure(figsize=(10,5))\n",
    "plt.title(\"4/5 화요일 동춘역 / 연세대(인천) 방면 \\n\", fontsize=20)\n",
    "plt.ylabel('도착 예정 시간(초)', fontsize=12)\n",
    "plt.xlabel('시간', fontsize=12)\n",
    "plt.plot(result, label = ['실제', '예측'])\n",
    "plt.legend(fontsize=10)"
   ]
  },
  {
   "cell_type": "code",
   "execution_count": null,
   "id": "c4e9a24e",
   "metadata": {},
   "outputs": [],
   "source": [
    "# 샘플 데이터 생성 함수\n",
    "\n",
    "# 샘플 데이터 생성    서울역 방면 / 합정역 승차 / 2022년 2월 25일 16시 42분 7초 기준 예측값\n",
    "df1 = df_test_x[(df_test_x['bstopId']==113000424) & (df_test_x['year'] == 2022 )& (df_test_x['month'] == 2) \n",
    "                & (df_test_x['day'] == 21) & (df_test_x['hour'] == 16) & (df_test_x['minute'] == 42)].copy()\n",
    "\n",
    "\n",
    "# 모델에 적용\n",
    "xgboost = XG_model.predict(df1)\n",
    "print(\"예측값:\", xgboost)\n",
    "df1"
   ]
  },
  {
   "cell_type": "code",
   "execution_count": null,
   "id": "a71670ca",
   "metadata": {},
   "outputs": [],
   "source": [
    "# df1.to_csv('ML_test.csv', index=False, header=None)"
   ]
  }
 ],
 "metadata": {
  "kernelspec": {
   "display_name": "Python 3 (ipykernel)",
   "language": "python",
   "name": "python3"
  },
  "language_info": {
   "codemirror_mode": {
    "name": "ipython",
    "version": 3
   },
   "file_extension": ".py",
   "mimetype": "text/x-python",
   "name": "python",
   "nbconvert_exporter": "python",
   "pygments_lexer": "ipython3",
   "version": "3.9.7"
  }
 },
 "nbformat": 4,
 "nbformat_minor": 5
}
